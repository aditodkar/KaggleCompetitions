{
 "cells": [
  {
   "cell_type": "markdown",
   "metadata": {},
   "source": [
    " Titanic competition on Kaggle to predict survival of passangers onboard"
   ]
  },
  {
   "cell_type": "code",
   "execution_count": 33,
   "metadata": {
    "collapsed": false
   },
   "outputs": [
    {
     "data": {
      "text/html": [
       "<div>\n",
       "<table border=\"1\" class=\"dataframe\">\n",
       "  <thead>\n",
       "    <tr style=\"text-align: right;\">\n",
       "      <th></th>\n",
       "      <th>PassengerId</th>\n",
       "      <th>Survived</th>\n",
       "      <th>Pclass</th>\n",
       "      <th>Name</th>\n",
       "      <th>Sex</th>\n",
       "      <th>Age</th>\n",
       "      <th>SibSp</th>\n",
       "      <th>Parch</th>\n",
       "      <th>Ticket</th>\n",
       "      <th>Fare</th>\n",
       "      <th>Cabin</th>\n",
       "      <th>Embarked</th>\n",
       "    </tr>\n",
       "  </thead>\n",
       "  <tbody>\n",
       "    <tr>\n",
       "      <th>0</th>\n",
       "      <td>1</td>\n",
       "      <td>0</td>\n",
       "      <td>3</td>\n",
       "      <td>Braund, Mr. Owen Harris</td>\n",
       "      <td>male</td>\n",
       "      <td>22.0</td>\n",
       "      <td>1</td>\n",
       "      <td>0</td>\n",
       "      <td>A/5 21171</td>\n",
       "      <td>7.2500</td>\n",
       "      <td>NaN</td>\n",
       "      <td>S</td>\n",
       "    </tr>\n",
       "    <tr>\n",
       "      <th>1</th>\n",
       "      <td>2</td>\n",
       "      <td>1</td>\n",
       "      <td>1</td>\n",
       "      <td>Cumings, Mrs. John Bradley (Florence Briggs Th...</td>\n",
       "      <td>female</td>\n",
       "      <td>38.0</td>\n",
       "      <td>1</td>\n",
       "      <td>0</td>\n",
       "      <td>PC 17599</td>\n",
       "      <td>71.2833</td>\n",
       "      <td>C85</td>\n",
       "      <td>C</td>\n",
       "    </tr>\n",
       "    <tr>\n",
       "      <th>2</th>\n",
       "      <td>3</td>\n",
       "      <td>1</td>\n",
       "      <td>3</td>\n",
       "      <td>Heikkinen, Miss. Laina</td>\n",
       "      <td>female</td>\n",
       "      <td>26.0</td>\n",
       "      <td>0</td>\n",
       "      <td>0</td>\n",
       "      <td>STON/O2. 3101282</td>\n",
       "      <td>7.9250</td>\n",
       "      <td>NaN</td>\n",
       "      <td>S</td>\n",
       "    </tr>\n",
       "    <tr>\n",
       "      <th>3</th>\n",
       "      <td>4</td>\n",
       "      <td>1</td>\n",
       "      <td>1</td>\n",
       "      <td>Futrelle, Mrs. Jacques Heath (Lily May Peel)</td>\n",
       "      <td>female</td>\n",
       "      <td>35.0</td>\n",
       "      <td>1</td>\n",
       "      <td>0</td>\n",
       "      <td>113803</td>\n",
       "      <td>53.1000</td>\n",
       "      <td>C123</td>\n",
       "      <td>S</td>\n",
       "    </tr>\n",
       "    <tr>\n",
       "      <th>4</th>\n",
       "      <td>5</td>\n",
       "      <td>0</td>\n",
       "      <td>3</td>\n",
       "      <td>Allen, Mr. William Henry</td>\n",
       "      <td>male</td>\n",
       "      <td>35.0</td>\n",
       "      <td>0</td>\n",
       "      <td>0</td>\n",
       "      <td>373450</td>\n",
       "      <td>8.0500</td>\n",
       "      <td>NaN</td>\n",
       "      <td>S</td>\n",
       "    </tr>\n",
       "  </tbody>\n",
       "</table>\n",
       "</div>"
      ],
      "text/plain": [
       "   PassengerId  Survived  Pclass  \\\n",
       "0            1         0       3   \n",
       "1            2         1       1   \n",
       "2            3         1       3   \n",
       "3            4         1       1   \n",
       "4            5         0       3   \n",
       "\n",
       "                                                Name     Sex   Age  SibSp  \\\n",
       "0                            Braund, Mr. Owen Harris    male  22.0      1   \n",
       "1  Cumings, Mrs. John Bradley (Florence Briggs Th...  female  38.0      1   \n",
       "2                             Heikkinen, Miss. Laina  female  26.0      0   \n",
       "3       Futrelle, Mrs. Jacques Heath (Lily May Peel)  female  35.0      1   \n",
       "4                           Allen, Mr. William Henry    male  35.0      0   \n",
       "\n",
       "   Parch            Ticket     Fare Cabin Embarked  \n",
       "0      0         A/5 21171   7.2500   NaN        S  \n",
       "1      0          PC 17599  71.2833   C85        C  \n",
       "2      0  STON/O2. 3101282   7.9250   NaN        S  \n",
       "3      0            113803  53.1000  C123        S  \n",
       "4      0            373450   8.0500   NaN        S  "
      ]
     },
     "execution_count": 33,
     "metadata": {},
     "output_type": "execute_result"
    }
   ],
   "source": [
    "#Read data in\n",
    "import pandas as pd\n",
    "titanic=pd.read_csv(\"train.csv\")\n",
    "titanic.head()"
   ]
  },
  {
   "cell_type": "code",
   "execution_count": 34,
   "metadata": {
    "collapsed": false
   },
   "outputs": [
    {
     "data": {
      "text/plain": [
       "PassengerId    891\n",
       "Survived       891\n",
       "Pclass         891\n",
       "Name           891\n",
       "Sex            891\n",
       "Age            714\n",
       "SibSp          891\n",
       "Parch          891\n",
       "Ticket         891\n",
       "Fare           891\n",
       "Cabin          204\n",
       "Embarked       889\n",
       "dtype: int64"
      ]
     },
     "execution_count": 34,
     "metadata": {},
     "output_type": "execute_result"
    }
   ],
   "source": [
    "titanic.count()"
   ]
  },
  {
   "cell_type": "markdown",
   "metadata": {},
   "source": [
    "Above count shows there are missing values in age, cabin and embarked.\n",
    "U need to replace the null values with the median age which is more robust to outliers than the mean."
   ]
  },
  {
   "cell_type": "code",
   "execution_count": 35,
   "metadata": {
    "collapsed": false
   },
   "outputs": [
    {
     "name": "stdout",
     "output_type": "stream",
     "text": [
      "28.0\n",
      "29.36158249158249\n"
     ]
    }
   ],
   "source": [
    "titanic['Age'].fillna(titanic['Age'].median(), inplace=True)\n",
    "import numpy as np\n",
    "print(np.median(titanic['Age']))\n",
    "print(titanic['Age'].mean())"
   ]
  },
  {
   "cell_type": "code",
   "execution_count": 24,
   "metadata": {
    "collapsed": false
   },
   "outputs": [
    {
     "data": {
      "text/plain": [
       "<function matplotlib.pyplot.show>"
      ]
     },
     "execution_count": 24,
     "metadata": {},
     "output_type": "execute_result"
    },
    {
     "data": {
      "image/png": "[encoded data removed]",
      "text/plain": [
       "<matplotlib.figure.Figure at 0x7f1a46477748>"
      ]
     },
     "metadata": {},
     "output_type": "display_data"
    }
   ],
   "source": [
    "import matplotlib.pyplot as plt\n",
    "%matplotlib inline\n",
    "\n",
    "plt.hist(raw_df[\"Age\"])\n",
    "plt.show\n",
    "\n",
    "plt.axvline(raw_df[\"Age\"].mean(), color=\"r\")\n",
    "plt.axvline(np.median(raw_df[\"Age\"]), color=\"white\")\n",
    "# median  s further left than mean it ignores outliers \n",
    "plt.show"
   ]
  },
  {
   "cell_type": "code",
   "execution_count": 25,
   "metadata": {
    "collapsed": false
   },
   "outputs": [
    {
     "data": {
      "text/html": [
       "<div>\n",
       "<table border=\"1\" class=\"dataframe\">\n",
       "  <thead>\n",
       "    <tr style=\"text-align: right;\">\n",
       "      <th></th>\n",
       "      <th>PassengerId</th>\n",
       "      <th>Survived</th>\n",
       "      <th>Pclass</th>\n",
       "      <th>Age</th>\n",
       "      <th>SibSp</th>\n",
       "      <th>Parch</th>\n",
       "      <th>Fare</th>\n",
       "    </tr>\n",
       "  </thead>\n",
       "  <tbody>\n",
       "    <tr>\n",
       "      <th>count</th>\n",
       "      <td>891.000000</td>\n",
       "      <td>891.000000</td>\n",
       "      <td>891.000000</td>\n",
       "      <td>891.000000</td>\n",
       "      <td>891.000000</td>\n",
       "      <td>891.000000</td>\n",
       "      <td>891.000000</td>\n",
       "    </tr>\n",
       "    <tr>\n",
       "      <th>mean</th>\n",
       "      <td>446.000000</td>\n",
       "      <td>0.383838</td>\n",
       "      <td>2.308642</td>\n",
       "      <td>29.361582</td>\n",
       "      <td>0.523008</td>\n",
       "      <td>0.381594</td>\n",
       "      <td>32.204208</td>\n",
       "    </tr>\n",
       "    <tr>\n",
       "      <th>std</th>\n",
       "      <td>257.353842</td>\n",
       "      <td>0.486592</td>\n",
       "      <td>0.836071</td>\n",
       "      <td>13.019697</td>\n",
       "      <td>1.102743</td>\n",
       "      <td>0.806057</td>\n",
       "      <td>49.693429</td>\n",
       "    </tr>\n",
       "    <tr>\n",
       "      <th>min</th>\n",
       "      <td>1.000000</td>\n",
       "      <td>0.000000</td>\n",
       "      <td>1.000000</td>\n",
       "      <td>0.420000</td>\n",
       "      <td>0.000000</td>\n",
       "      <td>0.000000</td>\n",
       "      <td>0.000000</td>\n",
       "    </tr>\n",
       "    <tr>\n",
       "      <th>25%</th>\n",
       "      <td>223.500000</td>\n",
       "      <td>0.000000</td>\n",
       "      <td>2.000000</td>\n",
       "      <td>22.000000</td>\n",
       "      <td>0.000000</td>\n",
       "      <td>0.000000</td>\n",
       "      <td>7.910400</td>\n",
       "    </tr>\n",
       "    <tr>\n",
       "      <th>50%</th>\n",
       "      <td>446.000000</td>\n",
       "      <td>0.000000</td>\n",
       "      <td>3.000000</td>\n",
       "      <td>28.000000</td>\n",
       "      <td>0.000000</td>\n",
       "      <td>0.000000</td>\n",
       "      <td>14.454200</td>\n",
       "    </tr>\n",
       "    <tr>\n",
       "      <th>75%</th>\n",
       "      <td>668.500000</td>\n",
       "      <td>1.000000</td>\n",
       "      <td>3.000000</td>\n",
       "      <td>35.000000</td>\n",
       "      <td>1.000000</td>\n",
       "      <td>0.000000</td>\n",
       "      <td>31.000000</td>\n",
       "    </tr>\n",
       "    <tr>\n",
       "      <th>max</th>\n",
       "      <td>891.000000</td>\n",
       "      <td>1.000000</td>\n",
       "      <td>3.000000</td>\n",
       "      <td>80.000000</td>\n",
       "      <td>8.000000</td>\n",
       "      <td>6.000000</td>\n",
       "      <td>512.329200</td>\n",
       "    </tr>\n",
       "  </tbody>\n",
       "</table>\n",
       "</div>"
      ],
      "text/plain": [
       "       PassengerId    Survived      Pclass         Age       SibSp  \\\n",
       "count   891.000000  891.000000  891.000000  891.000000  891.000000   \n",
       "mean    446.000000    0.383838    2.308642   29.361582    0.523008   \n",
       "std     257.353842    0.486592    0.836071   13.019697    1.102743   \n",
       "min       1.000000    0.000000    1.000000    0.420000    0.000000   \n",
       "25%     223.500000    0.000000    2.000000   22.000000    0.000000   \n",
       "50%     446.000000    0.000000    3.000000   28.000000    0.000000   \n",
       "75%     668.500000    1.000000    3.000000   35.000000    1.000000   \n",
       "max     891.000000    1.000000    3.000000   80.000000    8.000000   \n",
       "\n",
       "            Parch        Fare  \n",
       "count  891.000000  891.000000  \n",
       "mean     0.381594   32.204208  \n",
       "std      0.806057   49.693429  \n",
       "min      0.000000    0.000000  \n",
       "25%      0.000000    7.910400  \n",
       "50%      0.000000   14.454200  \n",
       "75%      0.000000   31.000000  \n",
       "max      6.000000  512.329200  "
      ]
     },
     "execution_count": 25,
     "metadata": {},
     "output_type": "execute_result"
    }
   ],
   "source": [
    "titanic.describe()  # numerical features of data"
   ]
  },
  {
   "cell_type": "code",
   "execution_count": 26,
   "metadata": {
    "collapsed": false
   },
   "outputs": [
    {
     "data": {
      "text/plain": [
       "0    22.0\n",
       "1    38.0\n",
       "2    26.0\n",
       "3    35.0\n",
       "4    35.0\n",
       "Name: Age, dtype: float64"
      ]
     },
     "execution_count": 26,
     "metadata": {},
     "output_type": "execute_result"
    }
   ],
   "source": [
    "titanic[\"Age\"].head()"
   ]
  },
  {
   "cell_type": "code",
   "execution_count": 36,
   "metadata": {
    "collapsed": false
   },
   "outputs": [
    {
     "name": "stdout",
     "output_type": "stream",
     "text": [
      "0.5093852558219663\n",
      "0.9815760369363544\n"
     ]
    }
   ],
   "source": [
    "from scipy.stats import skew\n",
    "\n",
    "skew_age=skew(titanic[\"Age\"])\n",
    "print(skew_age)\n",
    "\n",
    "from scipy.stats import kurtosis\n",
    "\n",
    "kurtosis_age=kurtosis(titanic[\"Age\"])\n",
    "print(kurtosis_age)"
   ]
  },
  {
   "cell_type": "code",
   "execution_count": 37,
   "metadata": {
    "collapsed": false
   },
   "outputs": [
    {
     "name": "stdout",
     "output_type": "stream",
     "text": [
      "['male' 'female']\n"
     ]
    }
   ],
   "source": [
    "# Find all the unique genders -- the column appears to contain only male and female.\n",
    "print(titanic[\"Sex\"].unique())\n",
    "\n",
    "# Replace all the occurences of male with the number 0.\n",
    "titanic.loc[titanic[\"Sex\"] == \"male\", \"Sex\"] = 0\n",
    "titanic.loc[titanic[\"Sex\"] == \"female\", \"Sex\"] = 1"
   ]
  },
  {
   "cell_type": "code",
   "execution_count": 40,
   "metadata": {
    "collapsed": false
   },
   "outputs": [
    {
     "name": "stdout",
     "output_type": "stream",
     "text": [
      "[0 1 2]\n"
     ]
    }
   ],
   "source": [
    "# Find all the unique values for \"Embarked\".\n",
    "print(titanic[\"Embarked\"].unique())\n",
    "titanic['Embarked'].fillna('S', inplace=True)\n",
    "\n",
    "titanic.loc[titanic[\"Embarked\"] == \"S\", \"Embarked\"] = 0\n",
    "astitanic.loc[titanic[\"Embarked\"] == \"C\", \"Embarked\"] = 1\n",
    "titanic.loc[titanic[\"Embarked\"] == \"Q\", \"Embarked\"] = 2\n"
   ]
  },
  {
   "cell_type": "code",
   "execution_count": 41,
   "metadata": {
    "collapsed": false
   },
   "outputs": [],
   "source": [
    "# Import the linear regression class\n",
    "from sklearn.linear_model import LinearRegression\n",
    "# Sklearn also has a helper that makes it easy to do cross validation\n",
    "from sklearn.cross_validation import KFold\n",
    "\n",
    "# The columns we'll use to predict the target\n",
    "predictors = [\"Pclass\", \"Sex\", \"Age\", \"SibSp\", \"Parch\", \"Fare\", \"Embarked\"]\n",
    "\n",
    "# Initialize our algorithm class\n",
    "alg = LinearRegression()\n",
    "# Generate cross validation folds for the titanic dataset.  It return the row indices corresponding to train and test.\n",
    "# We set random_state to ensure we get the same splits every time we run this.\n",
    "kf = KFold(titanic.shape[0], n_folds=3, random_state=1)\n",
    "\n",
    "predictions = []\n",
    "for train, test in kf:\n",
    "    # The predictors we're using to train the algorithm.  Note how we only take the rows in the train folds.\n",
    "    train_predictors = (titanic[predictors].iloc[train,:])\n",
    "    # The target we're using to train the algorithm.\n",
    "    train_target = titanic[\"Survived\"].iloc[train]\n",
    "    # Training the algorithm using the predictors and target.\n",
    "    alg.fit(train_predictors, train_target)\n",
    "    # We can now make predictions on the test fold\n",
    "    test_predictions = alg.predict(titanic[predictors].iloc[test,:])\n",
    "    predictions.append(test_predictions)"
   ]
  },
  {
   "cell_type": "code",
   "execution_count": 42,
   "metadata": {
    "collapsed": false
   },
   "outputs": [
    {
     "name": "stderr",
     "output_type": "stream",
     "text": [
      "/home/ubuntu/anaconda2/envs/py3/lib/python3.5/site-packages/ipykernel/__main__.py:10: FutureWarning: in the future, boolean array-likes will be handled as a boolean array index\n"
     ]
    }
   ],
   "source": [
    "import numpy as np\n",
    "\n",
    "a# The predictions are in three separate numpy arrays.  Concatenate them into one.  \n",
    "# We concatenate them on axis 0, as they only have one axis.\n",
    "predictions = np.concatenate(predictions, axis=0)\n",
    "\n",
    "# Map predictions to outcomes (only possible outcomes are 1 and 0)\n",
    "predictions[predictions > .5] = 1\n",
    "predictions[predictions <=.5] = 0\n",
    "accuracy = sum(predictions[predictions == titanic[\"Survived\"]]) / len(predictions)"
   ]
  },
  {
   "cell_type": "code",
   "execution_count": 43,
   "metadata": {
    "collapsed": false
   },
   "outputs": [
    {
     "name": "stdout",
     "output_type": "stream",
     "text": [
      "0.787878787879\n"
     ]
    }
   ],
   "source": [
    "from sklearn import cross_validation\n",
    "from sklearn.linear_model import LogisticRegression\n",
    "# Initialize our algorithm\n",
    "alg = LogisticRegression(random_state=1)\n",
    "# Compute the accuracy score for all the cross validation folds.  (much simpler than what we did before!)\n",
    "scores = cross_validation.cross_val_score(alg, titanic[predictors], titanic[\"Survived\"], cv=3)\n",
    "# Take the mean of the scores (because we have one for each fold)\n",
    "print(scores.mean())"
   ]
  },
  {
   "cell_type": "code",
   "execution_count": 44,
   "metadata": {
    "collapsed": false
   },
   "outputs": [],
   "source": [
    "titanic_test = pd.read_csv(\"test.csv\")\n",
    "titanic_test[\"Age\"] = titanic_test[\"Age\"].fillna(titanic[\"Age\"].median())\n",
    "titanic_test[\"Fare\"] = titanic_test[\"Fare\"].fillna(titanic_test[\"Fare\"].median())\n",
    "titanic_test.loc[titanic_test[\"Sex\"] == \"male\", \"Sex\"] = 0 \n",
    "titanic_test.loc[titanic_test[\"Sex\"] == \"female\", \"Sex\"] = 1\n",
    "titanic_test[\"Embarked\"] = titanic_test[\"Embarked\"].fillna(\"S\")\n",
    "\n",
    "titanic_test.loc[titanic_test[\"Embarked\"] == \"S\", \"Embarked\"] = 0\n",
    "titanic_test.loc[titanic_test[\"Embarked\"] == \"C\", \"Embarked\"] = 1\n",
    "titanic_test.loc[titanic_test[\"Embarked\"] == \"Q\", \"Embarked\"] = 2"
   ]
  },
  {
   "cell_type": "code",
   "execution_count": 45,
   "metadata": {
    "collapsed": false
   },
   "outputs": [],
   "source": [
    "from sklearn import cross_validation\n",
    "from sklearn.linear_model import LogisticRegression\n",
    "# Initialize the algorithm class\n",
    "alg = LogisticRegression(random_state=1)\n",
    "\n",
    "# Train the algorithm using all the training data\n",
    "alg.fit(titanic[predictors], titanic[\"Survived\"])\n",
    "\n",
    "# Make predictions using the test set.\n",
    "predictions = alg.predict(titanic_test[predictors])\n",
    "\n",
    "# Create a new dataframe with only the columns Kaggle wants from the dataset.\n",
    "submission = pd.DataFrame({\n",
    "        \"PassengerId\": titanic_test[\"PassengerId\"],\n",
    "        \"Survived\": predictions\n",
    "    })"
   ]
  },
  {
   "cell_type": "code",
   "execution_count": 46,
   "metadata": {
    "collapsed": true
   },
   "outputs": [],
   "source": [
    "submission.to_csv(\"kaggle.csv\", index=False)"
   ]
  },
  {
   "cell_type": "code",
   "execution_count": 47,
   "metadata": {
    "collapsed": false
   },
   "outputs": [
    {
     "name": "stdout",
     "output_type": "stream",
     "text": [
      "0.785634118967\n"
     ]
    }
   ],
   "source": [
    "from sklearn.cross_validation import KFold,cross_val_score\n",
    "\n",
    "from sklearn.ensemble import RandomForestClassifier\n",
    "\n",
    "predictors = [\"Pclass\", \"Sex\", \"Age\", \"SibSp\", \"Parch\", \"Fare\", \"Embarked\"]\n",
    "\n",
    "# Initialize our algorithm with the default paramters\n",
    "# n_estimators is the number of trees we want to make\n",
    "# min_samples_split is the minimum number of rows we need to make a split\n",
    "# min_samples_leaf is the minimum number of samples we can have at the place where a tree branch ends (the bottom points of the tree)\n",
    "alg = RandomForestClassifier(random_state=1, n_estimators=10, min_samples_split=2, min_samples_leaf=1)\n",
    "kf = KFold(titanic.shape[0], n_folds=3, random_state=1)\n",
    "scores=cross_val_score(alg, titanic[predictors], titanic[\"Survived\"],cv=kf)\n",
    "print(scores.mean())"
   ]
  },
  {
   "cell_type": "code",
   "execution_count": 48,
   "metadata": {
    "collapsed": false
   },
   "outputs": [
    {
     "name": "stdout",
     "output_type": "stream",
     "text": [
      "0.814814814815\n"
     ]
    }
   ],
   "source": [
    "from sklearn.cross_validation import KFold,cross_val_score\n",
    "\n",
    "from sklearn.ensemble import RandomForestClassifier\n",
    "predictors = [\"Pclass\", \"Sex\", \"Age\", \"SibSp\", \"Parch\", \"Fare\", \"Embarked\"]\n",
    "\n",
    "# Initialize our algorithm with the default paramters\n",
    "# n_estimators is the number of trees we want to make\n",
    "# min_samples_split is the minimum number of rows we need to make a split\n",
    "# min_samples_leaf is the minimum number of samples we can have at the place where a tree branch ends (the bottom points of the tree)\n",
    "alg = RandomForestClassifier(random_state=1, n_estimators=150, min_samples_split=4, min_samples_leaf=2)\n",
    "kf = KFold(titanic.shape[0], n_folds=3, random_state=1)\n",
    "scores=cross_val_score(alg, titanic[predictors], titanic[\"Survived\"],cv=kf)\n",
    "print(scores.mean())"
   ]
  },
  {
   "cell_type": "code",
   "execution_count": 49,
   "metadata": {
    "collapsed": true
   },
   "outputs": [],
   "source": [
    "# Generating a familysize column\n",
    "titanic[\"FamilySize\"] = titanic[\"SibSp\"] + titanic[\"Parch\"]\n",
    "\n",
    "# The .apply method generates a new series\n",
    "titanic[\"NameLength\"] = titanic[\"Name\"].apply(lambda x: len(x))"
   ]
  },
  {
   "cell_type": "code",
   "execution_count": 50,
   "metadata": {
    "collapsed": false
   },
   "outputs": [
    {
     "name": "stdout",
     "output_type": "stream",
     "text": [
      "Mr          517\n",
      "Miss        182\n",
      "Mrs         125\n",
      "Master       40\n",
      "Dr            7\n",
      "Rev           6\n",
      "Col           2\n",
      "Major         2\n",
      "Mlle          2\n",
      "Lady          1\n",
      "Mme           1\n",
      "Don           1\n",
      "Countess      1\n",
      "Sir           1\n",
      "Ms            1\n",
      "Capt          1\n",
      "Jonkheer      1\n",
      "Name: Name, dtype: int64\n",
      "1     517\n",
      "2     183\n",
      "3     125\n",
      "4      40\n",
      "5       7\n",
      "6       6\n",
      "7       5\n",
      "10      3\n",
      "8       3\n",
      "9       2\n",
      "Name: Name, dtype: int64\n"
     ]
    }
   ],
   "source": [
    "import re\n",
    "\n",
    "# A function to get the title from a name.\n",
    "def get_title(name):\n",
    "    # Use a regular expression to search for a title.  Titles always consist of capital and lowercase letters, and end with a period.\n",
    "    title_search = re.search(' ([A-Za-z]+)\\.', name)\n",
    "    # If the title exists, extract and return it.\n",
    "    if title_search:\n",
    "        return title_search.group(1)\n",
    "    return \"\"\n",
    "\n",
    "# Get all the titles and print how often each one occurs.\n",
    "titles = titanic[\"Name\"].apply(get_title)\n",
    "print(pd.value_counts(titles))\n",
    "\n",
    "# Map each title to an integer.  Some titles are very rare, and are compressed into the same codes as other titles.\n",
    "title_mapping = {\"Mr\": 1, \"Miss\": 2, \"Mrs\": 3, \"Master\": 4, \"Dr\": 5, \"Rev\": 6, \"Major\": 7, \"Col\": 7, \"Mlle\": 8, \"Mme\": 8, \"Don\": 9, \"Lady\": 10, \"Countess\": 10, \"Jonkheer\": 10, \"Sir\": 9, \"Capt\": 7, \"Ms\": 2}\n",
    "for k,v in title_mapping.items():\n",
    "    titles[titles == k] = v\n",
    "\n",
    "# Verify that we converted everything.\n",
    "print(pd.value_counts(titles))\n",
    "\n",
    "# Add in the title column.\n",
    "titanic[\"Title\"] = titles"
   ]
  },
  {
   "cell_type": "code",
   "execution_count": 51,
   "metadata": {
    "collapsed": false
   },
   "outputs": [
    {
     "name": "stdout",
     "output_type": "stream",
     "text": [
      "-1      800\n",
      " 14       8\n",
      " 149      7\n",
      " 63       6\n",
      " 50       6\n",
      " 59       6\n",
      " 17       5\n",
      " 384      4\n",
      " 27       4\n",
      " 25       4\n",
      " 162      4\n",
      " 8        4\n",
      " 84       4\n",
      " 340      4\n",
      " 43       3\n",
      " 269      3\n",
      " 58       3\n",
      " 633      2\n",
      " 167      2\n",
      " 280      2\n",
      " 510      2\n",
      " 90       2\n",
      " 83       1\n",
      " 625      1\n",
      " 376      1\n",
      " 449      1\n",
      " 498      1\n",
      " 588      1\n",
      "dtype: int64\n"
     ]
    }
   ],
   "source": [
    "import operator\n",
    "\n",
    "# A dictionary mapping family name to id\n",
    "family_id_mapping = {}\n",
    "\n",
    "# A function to get the id given a row\n",
    "def get_family_id(row):\n",
    "    # Find the last name by splitting on a comma\n",
    "    last_name = row[\"Name\"].split(\",\")[0]\n",
    "    # Create the family id\n",
    "    family_id = \"{0}{1}\".format(last_name, row[\"FamilySize\"])\n",
    "    # Look up the id in the mapping\n",
    "    if family_id not in family_id_mapping:\n",
    "        if len(family_id_mapping) == 0:\n",
    "            current_id = 1\n",
    "        else:\n",
    "            # Get the maximum id from the mapping and add one to it if we don't have an id\n",
    "            current_id = (max(family_id_mapping.items(), key=operator.itemgetter(1))[1] + 1)\n",
    "        family_id_mapping[family_id] = current_id\n",
    "    return family_id_mapping[family_id]\n",
    "\n",
    "# Get the family ids with the apply method\n",
    "family_ids = titanic.apply(get_family_id, axis=1)\n",
    "\n",
    "# There are a lot of family ids, so we'll compress all of the families under 3 members into one code.\n",
    "family_ids[titanic[\"FamilySize\"] < 3] = -1\n",
    "\n",
    "# Print the count of each unique id.\n",
    "print(pd.value_counts(family_ids))\n",
    "\n",
    "titanic[\"FamilyId\"] = family_ids"
   ]
  },
  {
   "cell_type": "code",
   "execution_count": 52,
   "metadata": {
    "collapsed": false
   },
   "outputs": [
    {
     "data": {
      "image/png": "[encoded data removed]",
      "text/plain": [
       "<matplotlib.figure.Figure at 0x7f1a4406efd0>"
      ]
     },
     "metadata": {},
     "output_type": "display_data"
    },
    {
     "name": "stdout",
     "output_type": "stream",
     "text": [
      "0.811447811448\n"
     ]
    }
   ],
   "source": [
    "import numpy as np\n",
    "from sklearn.feature_selection import SelectKBest, f_classif\n",
    "\n",
    "from sklearn.cross_validation import KFold,cross_val_score\n",
    "\n",
    "from sklearn.ensemble import RandomForestClassifier\n",
    "\n",
    "predictors = [\"Pclass\", \"Sex\", \"Age\", \"SibSp\", \"Parch\", \"Fare\", \"Embarked\", \"FamilySize\", \"Title\", \"FamilyId\"]\n",
    "\n",
    "# Perform feature selection\n",
    "selector = SelectKBest(f_classif, k=5)\n",
    "selector.fit(titanic[predictors], titanic[\"Survived\"])\n",
    "\n",
    "# Get the raw p-values for each feature, and transform from p-values into scores\n",
    "scores = -np.log10(selector.pvalues_)\n",
    "\n",
    "# Plot the scores.  See how \"Pclass\", \"Sex\", \"Title\", and \"Fare\" are the best?\n",
    "plt.bar(range(len(predictors)), scores)\n",
    "plt.xticks(range(len(predictors)), predictors, rotation='vertical')\n",
    "plt.show()\n",
    "\n",
    "# Pick only the four best features.\n",
    "predictors = [\"Pclass\", \"Sex\", \"Fare\", \"Title\"]\n",
    "\n",
    "alg = RandomForestClassifier(random_state=1, n_estimators=150, min_samples_split=8, min_samples_leaf=4)\n",
    "kf = KFold(titanic.shape[0], n_folds=3, random_state=1)\n",
    "scores=cross_val_score(alg, titanic[predictors], titanic[\"Survived\"],cv=3)\n",
    "print(scores.mean())\n"
   ]
  },
  {
   "cell_type": "code",
   "execution_count": 53,
   "metadata": {
    "collapsed": false
   },
   "outputs": [
    {
     "name": "stdout",
     "output_type": "stream",
     "text": [
      "0.819304152637\n"
     ]
    },
    {
     "name": "stderr",
     "output_type": "stream",
     "text": [
      "/home/ubuntu/anaconda2/envs/py3/lib/python3.5/site-packages/ipykernel/__main__.py:37: FutureWarning: in the future, boolean array-likes will be handled as a boolean array index\n"
     ]
    }
   ],
   "source": [
    "from sklearn.ensemble import GradientBoostingClassifier\n",
    "import numpy as np\n",
    "\n",
    "# The algorithms we want to ensemble.\n",
    "# We're using the more linear predictors for the logistic regression, and everything with the gradient boosting classifier.\n",
    "algorithms = [\n",
    "    [GradientBoostingClassifier(random_state=1, n_estimators=25, max_depth=3), [\"Pclass\", \"Sex\", \"Age\", \"Fare\", \"Embarked\", \"FamilySize\", \"Title\", \"FamilyId\"]],\n",
    "    [LogisticRegression(random_state=1), [\"Pclass\", \"Sex\", \"Fare\", \"FamilySize\", \"Title\", \"Age\", \"Embarked\"]]\n",
    "]\n",
    "\n",
    "# Initialize the cross validation folds\n",
    "kf = KFold(titanic.shape[0], n_folds=3, random_state=1)\n",
    "\n",
    "predictions = []\n",
    "for train, test in kf:\n",
    "    train_target = titanic[\"Survived\"].iloc[train]\n",
    "    full_test_predictions = []\n",
    "    # Make predictions for each algorithm on each fold\n",
    "    for alg, predictors in algorithms:\n",
    "        # Fit the algorithm on the training data.\n",
    "        alg.fit(titanic[predictors].iloc[train,:], train_target)\n",
    "        # Select and predict on the test fold.  \n",
    "        # The .astype(float) is necessary to convert the dataframe to all floats and avoid an sklearn error.\n",
    "        test_predictions = alg.predict_proba(titanic[predictors].iloc[test,:].astype(float))[:,1]\n",
    "        full_test_predictions.append(test_predictions)\n",
    "    # Use a simple ensembling scheme -- just average the predictions to get the final classification.\n",
    "    test_predictions = (full_test_predictions[0] + full_test_predictions[1]) / 2\n",
    "    # Any value over .5 is assumed to be a 1 prediction, and below .5 is a 0 prediction.\n",
    "    test_predictions[test_predictions <= .5] = 0\n",
    "    test_predictions[test_predictions > .5] = 1\n",
    "    predictions.append(test_predictions)\n",
    "\n",
    "# Put all the predictions together into one array.\n",
    "predictions = np.concatenate(predictions, axis=0)\n",
    "\n",
    "# Compute accuracy by comparing to the training data.\n",
    "accuracy = sum(predictions[predictions == titanic[\"Survived\"]]) / len(predictions)\n",
    "print(accuracy)"
   ]
  },
  {
   "cell_type": "code",
   "execution_count": 55,
   "metadata": {
    "collapsed": false
   },
   "outputs": [
    {
     "name": "stdout",
     "output_type": "stream",
     "text": [
      "1     240\n",
      "2      79\n",
      "3      72\n",
      "4      21\n",
      "7       2\n",
      "6       2\n",
      "10      1\n",
      "5       1\n",
      "Name: Title, dtype: int64\n",
      "{'Backstrom3': 83, 'Barah0': 616, 'Meek0': 357, 'Richard0': 127, 'Coleff0': 435, 'Frost0': 412, 'Coutts2': 305, 'Wright0': 466, 'Renouf1': 409, 'Artagaveytia0': 419, 'Naidenoff0': 259, 'Lahtinen2': 281, 'Tobin0': 627, 'Henry0': 239, 'Moran1': 106, 'Salkjelsvik0': 103, 'Salonen0': 448, 'Wells2': 606, 'Lefebre4': 162, 'Baxter1': 114, 'Mitkoff0': 533, 'Albimona0': 189, 'Strandberg0': 407, 'Mockler0': 315, 'Bracken0': 203, 'Harrington0': 500, 'Ahlin1': 40, 'Harrison0': 238, 'Emir0': 26, 'Chambers1': 587, 'Sunderland0': 202, 'Jacobsohn3': 498, 'Saad0': 566, 'Walker0': 436, 'Karun1': 564, 'Slayter0': 290, 'Sutehall0': 697, 'Graham0': 699, 'Olsen0': 144, 'Moore0': 116, 'Mullens0': 569, 'Icard0': 61, 'Turkula0': 414, 'Molson0': 418, 'Drazenoic0': 122, 'Hippach1': 294, 'Cleaver0': 576, 'Newell2': 539, 'Beane1': 456, 'Bengtsson0': 152, 'Slemen0': 652, 'Webber0': 117, 'Rush0': 479, 'Shelley1': 693, 'Mack0': 623, 'Connolly0': 261, 'Barber0': 262, 'Byles0': 139, 'Kalvik0': 534, 'Ball0': 293, 'Natsch1': 247, 'Risien0': 453, 'Scanlan0': 403, 'Braund1': 1, 'Cavendish1': 600, 'Troupiansky0': 595, 'Mangan0': 620, 'Smiljanic0': 148, 'Rugg0': 56, 'Lesurer0': 596, 'Carter1': 226, 'Holm0': 657, 'Carr0': 190, 'Lindahl0': 223, 'Padro y Manent0': 459, 'Daly0': 432, 'Jonsson0': 477, 'Coleridge0': 220, 'Bystrom0': 684, \"O'Brien1\": 170, 'Frauenthal2': 540, 'Bailey0': 611, 'Madill1': 562, 'Wiklund1': 325, 'Harris1': 62, 'Vander Cruyssen0': 689, 'Connors0': 113, 'Olsen1': 180, 'Aks1': 678, 'Balkic0': 688, 'Markun0': 694, 'Lobb1': 230, 'Cairns0': 244, 'Johnson0': 273, 'Nysveen0': 292, 'Williams-Lambert0': 308, 'Lindblom0': 250, 'Meanwell0': 474, 'Plotcharsky0': 335, 'Saalfeld0': 270, 'Rosblom2': 231, 'Touma2': 232, 'Herman3': 510, 'Panula5': 50, 'Boulos2': 131, 'Denkoff0': 297, 'Healy0': 248, 'Peters0': 557, 'Karaic0': 504, 'Hays0': 279, 'Taussig2': 237, 'Theobald0': 612, 'Dahl0': 299, 'Burke0': 134, 'Harder1': 324, 'Leinonen0': 526, 'Fleming0': 275, 'Moen0': 73, 'Mitchell0': 550, 'Hocking4': 625, 'Dakic0': 560, 'McNamee1': 601, 'Bradley0': 430, 'Klaber0': 578, 'Nenkoff0': 205, 'Sundman0': 356, 'Gheorgheff0': 362, 'Elias2': 309, 'Serepeca0': 672, 'Torber0': 501, 'Astor1': 571, 'Reynaldo0': 380, 'Becker3': 167, 'Mionoff0': 102, 'White1': 99, 'Pinsky0': 174, 'Pekoniemi0': 112, 'Goldenberg1': 388, 'Kantor1': 96, 'Laroche3': 43, 'Nicholson0': 458, 'Hassan0': 592, 'Ford4': 84, 'Williams1': 145, 'Reeves0': 240, 'del Carlo1': 316, 'Nakid2': 333, 'Angle1': 439, 'Hansen0': 514, 'Gustafsson0': 331, 'Colley0': 542, 'Lewy0': 267, 'Marvin1': 604, 'McCarthy0': 7, 'Barton0': 109, 'Dimic0': 306, 'Backstrom1': 188, 'Smith0': 160, 'Mayne0': 577, 'Hoyt1': 206, 'Corn0': 147, 'Beckwith2': 225, 'Ling0': 157, 'Uruchurtu0': 30, 'Karlsson0': 410, 'Glynn0': 32, 'Ringhini0': 327, 'Watson0': 552, 'Morrow0': 470, 'Allison3': 269, 'McGovern0': 314, 'Goldsmith2': 154, 'Carlsson0': 610, 'Cor0': 530, 'Simonius-Blumer0': 531, 'Ridsdale0': 446, 'Vestrom0': 15, 'Toufik0': 450, 'Maisner0': 399, 'Ivanoff0': 597, 'Ilmakangas1': 591, 'Dennis0': 288, 'Sirota0': 667, 'Bishop1': 263, 'Farthing0': 447, 'Asim0': 318, 'Andreasson0': 88, 'Butt0': 451, 'McMahon0': 118, 'Douglas1': 457, 'Kiernan1': 196, 'Vanden Steen0': 311, 'Drew2': 358, 'Lang0': 431, 'Kvillner0': 377, 'Niskanen0': 345, 'Wheadon0': 33, 'Youseff0': 185, 'Gavey0': 511, 'Robbins0': 468, 'Osman0': 642, 'Gee0': 397, 'Svensson0': 424, 'Emanuel0': 628, 'Landergren0': 328, 'Todoroff0': 29, 'Blackwell0': 300, 'Persson1': 241, 'Hendekovic0': 282, 'Sivola0': 159, 'Stephenson1': 493, 'Dorking0': 256, 'Parkes0': 251, 'Ilett0': 82, 'Johnston3': 633, 'Alexander0': 650, 'Andersen-Jensen1': 176, 'Waelens0': 78, 'Davison1': 304, 'Downton0': 485, 'Moussa0': 321, 'Betros0': 330, 'Andrews0': 647, 'Sutton0': 516, 'Cumings1': 2, 'Graham1': 242, 'Hays2': 658, 'Hold1': 215, 'Spencer1': 31, 'Doharr0': 476, 'Willey0': 532, 'Patchett0': 480, 'Carbines0': 175, 'Minahan1': 354, 'Louch1': 373, 'Roebling0': 686, 'Johnson2': 9, 'Stewart0': 64, 'Johannesen-Bratthammer0': 381, 'Hogeboom1': 618, 'Rogers0': 45, 'Van der hoef0': 158, 'Vande Velde0': 608, 'Cook0': 546, 'Pernot0': 166, 'Duran y More1': 685, 'Odahl0': 307, 'Dantcheff0': 639, 'Abbing0': 675, 'Barbara1': 317, 'Moss0': 104, 'Alhomaki0': 670, 'Fortune5': 27, 'Eustis1': 422, 'Lam0': 565, 'Vander Planke1': 19, 'Homer0': 502, 'Somerton0': 416, 'Faunthorpe1': 53, 'Aubart0': 323, 'Calic0': 153, 'Thomas1': 645, 'McGowan0': 23, 'Wiseman0': 366, 'Caldwell2': 76, 'Bidois0': 332, 'Hagland1': 386, 'Widegren0': 349, 'Otter0': 640, 'Davis0': 525, 'Giles1': 681, 'Vande Walle0': 183, 'Mallet2': 656, 'Baclini3': 384, 'Slabenoff0': 499, 'Farrell0': 445, 'Thayer2': 461, 'Meyer1': 34, 'Smart0': 402, 'Leader0': 641, 'Lundahl0': 522, 'Brown0': 177, 'Fox0': 303, 'Mudd0': 671, 'Fahlstrom0': 210, 'Jalsevac0': 390, 'Clifford0': 408, 'Danoff0': 289, 'Hart2': 283, 'Renouf3': 588, 'McKane0': 342, 'Harknett0': 214, 'Najib0': 690, 'Dahlberg0': 695, 'Hale0': 164, 'Bostandyeff0': 519, 'Milling0': 398, 'Beesley0': 22, 'Jonkoff0': 609, 'Cann0': 37, 'Davidson1': 549, 'Weir0': 567, 'Wilhelms0': 551, 'Clarke1': 367, 'Moran0': 6, 'Mineff0': 266, 'Daniel0': 505, 'Thorne0': 233, 'Humblen0': 570, 'Lahoud0': 443, 'Leonard0': 165, 'Montvila0': 698, 'Lindqvist1': 543, 'Vander Planke2': 38, 'Sjostedt0': 212, 'Frauenthal1': 296, 'Rouse0': 413, 'Greenberg0': 579, 'Hart0': 353, 'Hoyt0': 638, 'Hodges0': 586, 'Connaghton0': 605, 'Asplund6': 25, 'Stead0': 229, 'Campbell0': 401, 'Marechal0': 669, 'Stoytcheff0': 475, 'Reuchlin0': 660, 'Bowen0': 515, 'Pavlovic0': 440, 'Barkworth0': 521, 'Mernagh0': 179, 'LeRoy0': 452, 'Levy0': 264, 'Lemore0': 437, 'Partner0': 295, 'Jussila1': 110, 'Pears1': 141, 'Nicholls2': 136, 'Eklund0': 617, 'Mellinger1': 246, 'Sinkkonen0': 603, 'Sheerlinck0': 79, 'McCoy2': 272, 'West3': 58, 'Millet0': 391, 'Lurette0': 178, 'Fischer0': 561, 'Keefe0': 404, 'Stanley0': 420, 'Flynn0': 369, 'Guggenheim0': 636, 'Saundercock0': 13, 'Andrews1': 249, 'Collander0': 301, 'Richards5': 376, 'Longley0': 518, 'Badt0': 541, 'Kilgannon0': 629, 'Newsom2': 128, 'Haas0': 265, 'Sawyer0': 554, 'Frolicher2': 454, 'Morley0': 396, 'Sobey0': 126, 'Hunt0': 218, 'Isham0': 163, 'Coxon0': 91, 'Parrish1': 236, 'Zimmerman0': 364, 'Blank0': 191, 'Zabour1': 108, 'Razi0': 679, 'Slocovski0': 85, 'Kink-Heilmann2': 168, 'Norman0': 472, 'Reed0': 227, 'Honkanen0': 198, 'Edvardsson0': 553, 'Hansen1': 574, 'Romaine0': 171, 'Samaan2': 48, 'Spedden2': 287, 'Matthews0': 360, 'Adahl0': 319, 'Harris0': 201, 'Ward0': 235, 'Yrois0': 182, 'Larsson0': 211, 'Parr0': 524, 'Crosby2': 455, 'Seward0': 383, 'Radeff0': 537, 'McDermott0': 80, 'Gaskell0': 637, 'Harmer0': 634, 'Silven2': 359, 'Meo0': 142, 'Long0': 632, 'Lester0': 651, 'Nasser1': 10, 'Rothschild1': 434, 'Lines1': 677, 'Jermyn0': 322, 'Brocklebank0': 509, 'Minahan2': 222, 'Staneff0': 74, 'Turpin1': 41, 'McGough0': 433, 'Beavan0': 326, 'Cribb1': 150, 'Yousseff0': 421, 'Lovell0': 209, 'Anderson0': 395, 'de Pelsmaeker0': 255, 'Gilinski0': 490, 'Murphy1': 219, 'Baumann0': 156, 'Fry0': 654, 'Pasic0': 666, 'Augustsson0': 663, 'Appleton2': 478, 'Dooley0': 701, 'Maioni0': 428, 'Ryerson4': 280, 'Rothes0': 613, 'Jussila0': 483, 'Moraweck0': 285, 'Rood0': 169, 'Jensen0': 527, 'Peduzzi0': 389, 'Ponesell0': 644, 'Stankovic0': 257, 'Potter1': 692, 'Nicola-Yarred1': 39, 'van Billiard2': 143, 'Carter3': 340, 'Goodwin7': 59, 'Tikkanen0': 334, 'Keane0': 274, 'Perreault0': 441, 'Banfield0': 696, 'Petranec0': 97, 'Collyer2': 216, 'Attalah0': 111, 'Johanson0': 184, 'Klasen2': 161, 'Novel0': 57, 'Chronopoulos1': 71, 'Stone0': 662, 'Robins1': 124, 'Bowerman1': 312, 'Allen0': 5, 'Sivic0': 471, 'Futrelle1': 4, 'Leeni0': 464, 'Phillips0': 368, \"O'Brien0\": 463, 'Jansson0': 341, 'Peter2': 120, 'Moubarek2': 65, 'Christmann0': 87, 'Murdlin0': 491, 'Kent0': 415, 'Stranden0': 602, 'Ali0': 192, 'Hawksford0': 599, 'Hood0': 70, 'Chaffee1': 89, 'Francatelli0': 278, 'Danbom2': 365, 'Berriman0': 594, \"O'Connell0\": 520, 'Dodge2': 382, 'Lennon1': 46, 'Woolner0': 55, 'Hosono0': 260, 'Holverson1': 35, 'Osen0': 129, 'Pickard0': 370, 'Coelho0': 123, 'Pengelly0': 217, 'Williams0': 18, 'Lievens0': 622, 'Simmons0': 473, 'Nye0': 66, 'Porter0': 107, 'van Melkebeke0': 687, 'Olsvigen0': 559, 'Hampe0': 378, 'Abbott2': 252, 'Madsen0': 119, 'Sharp0': 462, 'Kimball1': 513, 'Windelov0': 417, 'Hamalainen2': 224, 'Young0': 291, 'Dean3': 90, 'Laleff0': 691, 'Chibnall1': 155, 'Goldschmidt0': 93, 'Knight0': 593, \"O'Dwyer0\": 28, 'Gronnestad0': 621, 'Garside0': 481, 'Allum0': 664, 'Abelson1': 277, 'Moutal0': 75, 'Mellors0': 208, 'Behr0': 700, 'Wick2': 286, 'Rommetvedt0': 545, 'Lehmann0': 339, 'Johansson0': 100, 'Kenyon1': 392, 'Ekstrom0': 121, 'Nankoff0': 598, 'Cameron0': 193, 'Givard0': 195, 'Gilnagh0': 146, 'Vovk0': 442, 'Endres0': 581, 'Butler0': 544, 'Sage10': 149, 'Greenfield1': 94, 'Sedgwick0': 302, 'Dowdell0': 77, 'Crease0': 67, 'Leyson0': 213, 'Compton2': 665, 'Andersson0': 137, 'de Messemaeker1': 469, 'Bazzani0': 200, 'Toomey0': 393, 'Jarvis0': 488, 'Bryhl1': 590, 'Swift0': 682, 'Kraeff0': 42, 'Penasco y Castellana1': 276, 'Oreskovic0': 347, 'Ohman0': 465, 'Soholt0': 580, 'Arnold-Franchi1': 49, 'Ostby1': 54, 'Weisz1': 125, 'Bing0': 72, 'Jerwan0': 406, 'Silvey1': 375, 'Chapman0': 568, 'Laitinen0': 427, 'Sirayanian0': 60, 'Hedman0': 646, 'Jenkin0': 69, 'Lindell1': 503, 'Paulner0': 487, 'Goncalves0': 400, 'Nilsson0': 284, 'Boulos0': 497, 'Jensen1': 584, 'Rintamaki0': 492, 'Kelly0': 271, 'Nirva0': 615, 'Mamee0': 36, 'Trout0': 344, 'Hegarty0': 536, 'Yasbeck1': 512, 'Lemberopolous0': 673, 'Harper1': 52, 'Watt0': 151, 'Navratil2': 138, 'Shutes0': 506, 'Celotti0': 86, 'Eitemiller0': 538, \"O'Sullivan0\": 426, 'Brown2': 548, 'Horgan0': 508, 'Ryan0': 438, 'Palsson4': 8, 'Ayoub0': 631, 'de Mulder0': 258, 'Hassab0': 558, 'Strom1': 187, 'Birkeland0': 351, 'Markoff0': 676, 'Troutt0': 582, 'Van Impe2': 361, 'Moor1': 607, 'Bateman0': 140, 'Taylor1': 547, 'Rice5': 17, 'Bourke2': 172, 'Cacic0': 405, 'Bissette0': 243, 'Cohen0': 186, 'Doling1': 95, \"O'Connor0\": 394, 'Sdycoff0': 352, 'Bjornstrom-Steffansson0': 371, 'Hickman2': 115, 'Peuchen0': 385, 'Sadlier0': 338, 'Buss0': 337, 'Petroff0': 98, 'Caram1': 482, 'Elsbury0': 494, 'Silverthorne0': 572, 'Leitch0': 496, 'McCormack0': 661, 'Christy2': 484, 'Elias0': 624, 'Richards2': 350, 'McEvoy0': 583, 'Davies2': 460, 'Sandstrom2': 11, 'Tornquist0': 245, 'Funk0': 313, 'Davies0': 336, 'Ross0': 486, \"O'Driscoll0\": 47, 'Kallio0': 374, 'Quick2': 429, 'Warren1': 320, 'Gallagher0': 573, 'Robert1': 630, 'Tomlin0': 653, 'Madigan0': 181, 'Andersson6': 14, 'Nysten0': 132, 'Maenpaa0': 221, 'Adams0': 346, 'Duff Gordon1': 467, 'Berglund0': 207, 'Duane0': 253, 'Heikkinen0': 3, 'Meyer0': 649, 'Cardeza1': 556, 'Carrau0': 81, 'Myhrman0': 626, 'Foreman0': 387, 'Strom2': 228, 'Mannion0': 589, 'Perkin0': 194, 'Yousif0': 310, 'Jacobsohn1': 199, 'Sloper0': 24, 'Foo0': 529, 'Widener2': 329, 'Rekic0': 105, 'Shellard0': 423, 'Calderhead0': 575, 'Ibrahim Shawah0': 643, 'Stahelin-Maeglin0': 523, 'Green0': 204, 'Fynney0': 21, 'Pettersson0': 648, 'Petterson1': 379, 'Sagesser0': 528, 'Skoog5': 63, 'Thorneycroft1': 372, 'Hansen2': 680, 'Andrew0': 135, 'Gill0': 683, 'Jardin0': 507, 'Nosworthy0': 51, 'Garfirth0': 614, 'Gillespie0': 585, 'Charters0': 363, 'Turja0': 555, 'Chapman1': 495, 'Olsson0': 254, 'Pain0': 343, 'Brewe0': 619, 'Giglio0': 130, 'Turcin0': 173, 'Newell1': 197, 'Gale1': 348, 'Sjoblom0': 635, 'Masselmani0': 20, 'Gustafsson2': 101, 'Frolicher-Stehli2': 489, 'Bonnell0': 12, \"O'Leary0\": 535, 'Heininen0': 655, 'Cherry0': 234, 'Kink2': 68, 'Devaney0': 44, 'Dick1': 563, 'Culumovic0': 674, 'Hewlett0': 16, 'Shorney0': 92, 'Lulic0': 659, 'Cunningham0': 355, 'Hirvonen1': 411, 'Hocking3': 449, 'Canavan0': 425, 'Kassem0': 444, 'Hanna0': 268, 'Burns0': 298, 'Kirkland0': 517, 'Hakkarainen1': 133, 'Chip0': 668}\n"
     ]
    }
   ],
   "source": [
    "# First, we'll add titles to the test set.\n",
    "titles = titanic_test[\"Name\"].apply(get_title)\n",
    "# We're adding the Dona title to the mapping, because it's in the test set, but not the training set\n",
    "title_mapping = {\"Mr\": 1, \"Miss\": 2, \"Mrs\": 3, \"Master\": 4, \"Dr\": 5, \"Rev\": 6, \"Major\": 7, \"Col\": 7, \"Mlle\": 8, \"Mme\": 8, \"Don\": 9, \"Lady\": 10, \"Countess\": 10, \"Jonkheer\": 10, \"Sir\": 9, \"Capt\": 7, \"Ms\": 2, \"Dona\": 10}\n",
    "for k,v in title_mapping.items():\n",
    "    titles[titles == k] = v\n",
    "titanic_test[\"Title\"] = titles\n",
    "# Check the counts of each unique title.\n",
    "print(pd.value_counts(titanic_test[\"Title\"]))\n",
    "\n",
    "# Now, we add the family size column.\n",
    "titanic_test[\"FamilySize\"] = titanic_test[\"SibSp\"] + titanic_test[\"Parch\"]\n",
    "\n",
    "# Now we can add family ids.\n",
    "# We'll use the same ids that we did earlier.\n",
    "print(family_id_mapping)\n",
    "\n",
    "family_ids = titanic_test.apply(get_family_id, axis=1)\n",
    "family_ids[titanic_test[\"FamilySize\"] < 3] = -1\n",
    "titanic_test[\"FamilyId\"] = family_ids\n",
    "\n",
    "\n",
    "# The .apply method generates a new series\n",
    "titanic_test[\"NameLength\"] = titanic_test[\"Name\"].apply(lambda x: len(x))"
   ]
  },
  {
   "cell_type": "code",
   "execution_count": 58,
   "metadata": {
    "collapsed": false
   },
   "outputs": [],
   "source": [
    "predictors = [\"Pclass\", \"Sex\", \"Age\", \"Fare\", \"Embarked\", \"FamilySize\", \"Title\", \"FamilyId\"]\n",
    "\n",
    "algorithms = [\n",
    "    [GradientBoostingClassifier(random_state=1, n_estimators=25, max_depth=3), predictors],\n",
    "    [LogisticRegression(random_state=1), [\"Pclass\", \"Sex\", \"Fare\", \"FamilySize\", \"Title\", \"Age\", \"Embarked\"]]\n",
    "]\n",
    "\n",
    "full_predictions = []\n",
    "for alg, predictors in algorithms:\n",
    "    # Fit the algorithm using the full training data.\n",
    "    alg.fit(titanic[predictors], titanic[\"Survived\"])\n",
    "    # Predict using the test dataset.  We have to convert all the columns to floats to avoid an error.\n",
    "    predictions = alg.predict_proba(titanic_test[predictors].astype(float))[:,1]\n",
    "    full_predictions.append(predictions)\n",
    "\n",
    "# The gradient boosting classifier generates better predictions, so we weight it higher.\n",
    "predictions1=[]\n",
    "predictions = (full_predictions[0] * 3 + full_predictions[1]) / 4\n",
    "predictions[predictions <= .5] = 0\n",
    "predictions[predictions > .5] = 1\n",
    "predictions = predictions.astype(int)\n",
    "submission = pd.DataFrame({\n",
    "        \"PassengerId\": titanic_test[\"PassengerId\"],\n",
    "        \"Survived\": predictions\n",
    "    })\n"
   ]
  },
  {
   "cell_type": "code",
   "execution_count": 59,
   "metadata": {
    "collapsed": true
   },
   "outputs": [],
   "source": [
    "submission.to_csv(\"kaggle.csv\", index=False)"
   ]
  },
  {
   "cell_type": "code",
   "execution_count": null,
   "metadata": {
    "collapsed": true
   },
   "outputs": [],
   "source": []
  }
 ],
 "metadata": {
  "kernelspec": {
   "display_name": "Python 3",
   "language": "python",
   "name": "python3"
  },
  "language_info": {
   "codemirror_mode": {
    "name": "ipython",
    "version": 3
   },
   "file_extension": ".py",
   "mimetype": "text/x-python",
   "name": "python",
   "nbconvert_exporter": "python",
   "pygments_lexer": "ipython3",
   "version": "3.5.1"
  }
 },
 "nbformat": 4,
 "nbformat_minor": 0
}
