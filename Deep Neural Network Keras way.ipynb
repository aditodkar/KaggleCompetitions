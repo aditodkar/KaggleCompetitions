{
 "cells": [
  {
   "cell_type": "markdown",
   "metadata": {},
   "source": [
    "Poonam Ligade\n",
    "1st Feb 2017\n",
    "This notebook is like note to self.\n",
    "I am trying to understand various components of Artificial Neural Networks aka Deep Learning.\n",
    "Hope it might be useful for someone else here.\n",
    "I am designing neural net on MNIST handwritten digits images to identify their correct label i.e number in image.\n",
    "You must have guessed its an image recognition task.\n",
    "MNIST is called Hello world of Deep learning.\n",
    "Lets start!!\n",
    "This notebook is inspired from Jeremy's Deep Learning mooc and Deep learning with python book by Keras author François Chollet .\n"
   ]
  },
  {
   "cell_type": "markdown",
   "metadata": {},
   "source": [
    "Import all required libraries"
   ]
  },
  {
   "cell_type": "code",
   "execution_count": 2,
   "metadata": {
    "collapsed": true
   },
   "outputs": [],
   "source": [
    "import numpy as np # linear algebra\n",
    "import pandas as pd # data processing, CSV file I/O (e.g. pd.read_csv)\n",
    "\n",
    "import matplotlib.pyplot as plt\n",
    "%matplotlib inline\n",
    "\n",
    "from sklearn.model_selection import train_test_split"
   ]
  },
  {
   "cell_type": "markdown",
   "metadata": {},
   "source": [
    "# Load Train and Test data"
   ]
  },
  {
   "cell_type": "code",
   "execution_count": 3,
   "metadata": {},
   "outputs": [
    {
     "name": "stdout",
     "output_type": "stream",
     "text": [
      "(42000, 785)\n"
     ]
    },
    {
     "data": {
      "text/html": [
       "<div>\n",
       "<table border=\"1\" class=\"dataframe\">\n",
       "  <thead>\n",
       "    <tr style=\"text-align: right;\">\n",
       "      <th></th>\n",
       "      <th>label</th>\n",
       "      <th>pixel0</th>\n",
       "      <th>pixel1</th>\n",
       "      <th>pixel2</th>\n",
       "      <th>pixel3</th>\n",
       "      <th>pixel4</th>\n",
       "      <th>pixel5</th>\n",
       "      <th>pixel6</th>\n",
       "      <th>pixel7</th>\n",
       "      <th>pixel8</th>\n",
       "      <th>...</th>\n",
       "      <th>pixel774</th>\n",
       "      <th>pixel775</th>\n",
       "      <th>pixel776</th>\n",
       "      <th>pixel777</th>\n",
       "      <th>pixel778</th>\n",
       "      <th>pixel779</th>\n",
       "      <th>pixel780</th>\n",
       "      <th>pixel781</th>\n",
       "      <th>pixel782</th>\n",
       "      <th>pixel783</th>\n",
       "    </tr>\n",
       "  </thead>\n",
       "  <tbody>\n",
       "    <tr>\n",
       "      <th>0</th>\n",
       "      <td>1</td>\n",
       "      <td>0</td>\n",
       "      <td>0</td>\n",
       "      <td>0</td>\n",
       "      <td>0</td>\n",
       "      <td>0</td>\n",
       "      <td>0</td>\n",
       "      <td>0</td>\n",
       "      <td>0</td>\n",
       "      <td>0</td>\n",
       "      <td>...</td>\n",
       "      <td>0</td>\n",
       "      <td>0</td>\n",
       "      <td>0</td>\n",
       "      <td>0</td>\n",
       "      <td>0</td>\n",
       "      <td>0</td>\n",
       "      <td>0</td>\n",
       "      <td>0</td>\n",
       "      <td>0</td>\n",
       "      <td>0</td>\n",
       "    </tr>\n",
       "    <tr>\n",
       "      <th>1</th>\n",
       "      <td>0</td>\n",
       "      <td>0</td>\n",
       "      <td>0</td>\n",
       "      <td>0</td>\n",
       "      <td>0</td>\n",
       "      <td>0</td>\n",
       "      <td>0</td>\n",
       "      <td>0</td>\n",
       "      <td>0</td>\n",
       "      <td>0</td>\n",
       "      <td>...</td>\n",
       "      <td>0</td>\n",
       "      <td>0</td>\n",
       "      <td>0</td>\n",
       "      <td>0</td>\n",
       "      <td>0</td>\n",
       "      <td>0</td>\n",
       "      <td>0</td>\n",
       "      <td>0</td>\n",
       "      <td>0</td>\n",
       "      <td>0</td>\n",
       "    </tr>\n",
       "    <tr>\n",
       "      <th>2</th>\n",
       "      <td>1</td>\n",
       "      <td>0</td>\n",
       "      <td>0</td>\n",
       "      <td>0</td>\n",
       "      <td>0</td>\n",
       "      <td>0</td>\n",
       "      <td>0</td>\n",
       "      <td>0</td>\n",
       "      <td>0</td>\n",
       "      <td>0</td>\n",
       "      <td>...</td>\n",
       "      <td>0</td>\n",
       "      <td>0</td>\n",
       "      <td>0</td>\n",
       "      <td>0</td>\n",
       "      <td>0</td>\n",
       "      <td>0</td>\n",
       "      <td>0</td>\n",
       "      <td>0</td>\n",
       "      <td>0</td>\n",
       "      <td>0</td>\n",
       "    </tr>\n",
       "    <tr>\n",
       "      <th>3</th>\n",
       "      <td>4</td>\n",
       "      <td>0</td>\n",
       "      <td>0</td>\n",
       "      <td>0</td>\n",
       "      <td>0</td>\n",
       "      <td>0</td>\n",
       "      <td>0</td>\n",
       "      <td>0</td>\n",
       "      <td>0</td>\n",
       "      <td>0</td>\n",
       "      <td>...</td>\n",
       "      <td>0</td>\n",
       "      <td>0</td>\n",
       "      <td>0</td>\n",
       "      <td>0</td>\n",
       "      <td>0</td>\n",
       "      <td>0</td>\n",
       "      <td>0</td>\n",
       "      <td>0</td>\n",
       "      <td>0</td>\n",
       "      <td>0</td>\n",
       "    </tr>\n",
       "    <tr>\n",
       "      <th>4</th>\n",
       "      <td>0</td>\n",
       "      <td>0</td>\n",
       "      <td>0</td>\n",
       "      <td>0</td>\n",
       "      <td>0</td>\n",
       "      <td>0</td>\n",
       "      <td>0</td>\n",
       "      <td>0</td>\n",
       "      <td>0</td>\n",
       "      <td>0</td>\n",
       "      <td>...</td>\n",
       "      <td>0</td>\n",
       "      <td>0</td>\n",
       "      <td>0</td>\n",
       "      <td>0</td>\n",
       "      <td>0</td>\n",
       "      <td>0</td>\n",
       "      <td>0</td>\n",
       "      <td>0</td>\n",
       "      <td>0</td>\n",
       "      <td>0</td>\n",
       "    </tr>\n",
       "  </tbody>\n",
       "</table>\n",
       "<p>5 rows × 785 columns</p>\n",
       "</div>"
      ],
      "text/plain": [
       "   label  pixel0  pixel1  pixel2  pixel3  pixel4  pixel5  pixel6  pixel7  \\\n",
       "0      1       0       0       0       0       0       0       0       0   \n",
       "1      0       0       0       0       0       0       0       0       0   \n",
       "2      1       0       0       0       0       0       0       0       0   \n",
       "3      4       0       0       0       0       0       0       0       0   \n",
       "4      0       0       0       0       0       0       0       0       0   \n",
       "\n",
       "   pixel8    ...     pixel774  pixel775  pixel776  pixel777  pixel778  \\\n",
       "0       0    ...            0         0         0         0         0   \n",
       "1       0    ...            0         0         0         0         0   \n",
       "2       0    ...            0         0         0         0         0   \n",
       "3       0    ...            0         0         0         0         0   \n",
       "4       0    ...            0         0         0         0         0   \n",
       "\n",
       "   pixel779  pixel780  pixel781  pixel782  pixel783  \n",
       "0         0         0         0         0         0  \n",
       "1         0         0         0         0         0  \n",
       "2         0         0         0         0         0  \n",
       "3         0         0         0         0         0  \n",
       "4         0         0         0         0         0  \n",
       "\n",
       "[5 rows x 785 columns]"
      ]
     },
     "execution_count": 3,
     "metadata": {},
     "output_type": "execute_result"
    }
   ],
   "source": [
    "# create the training & test sets, skipping the header row with [1:]\n",
    "train = pd.read_csv(\"train.csv\")\n",
    "print(train.shape)\n",
    "train.head()"
   ]
  },
  {
   "cell_type": "code",
   "execution_count": 4,
   "metadata": {},
   "outputs": [
    {
     "name": "stdout",
     "output_type": "stream",
     "text": [
      "(28000, 784)\n"
     ]
    },
    {
     "data": {
      "text/html": [
       "<div>\n",
       "<table border=\"1\" class=\"dataframe\">\n",
       "  <thead>\n",
       "    <tr style=\"text-align: right;\">\n",
       "      <th></th>\n",
       "      <th>pixel0</th>\n",
       "      <th>pixel1</th>\n",
       "      <th>pixel2</th>\n",
       "      <th>pixel3</th>\n",
       "      <th>pixel4</th>\n",
       "      <th>pixel5</th>\n",
       "      <th>pixel6</th>\n",
       "      <th>pixel7</th>\n",
       "      <th>pixel8</th>\n",
       "      <th>pixel9</th>\n",
       "      <th>...</th>\n",
       "      <th>pixel774</th>\n",
       "      <th>pixel775</th>\n",
       "      <th>pixel776</th>\n",
       "      <th>pixel777</th>\n",
       "      <th>pixel778</th>\n",
       "      <th>pixel779</th>\n",
       "      <th>pixel780</th>\n",
       "      <th>pixel781</th>\n",
       "      <th>pixel782</th>\n",
       "      <th>pixel783</th>\n",
       "    </tr>\n",
       "  </thead>\n",
       "  <tbody>\n",
       "    <tr>\n",
       "      <th>0</th>\n",
       "      <td>0</td>\n",
       "      <td>0</td>\n",
       "      <td>0</td>\n",
       "      <td>0</td>\n",
       "      <td>0</td>\n",
       "      <td>0</td>\n",
       "      <td>0</td>\n",
       "      <td>0</td>\n",
       "      <td>0</td>\n",
       "      <td>0</td>\n",
       "      <td>...</td>\n",
       "      <td>0</td>\n",
       "      <td>0</td>\n",
       "      <td>0</td>\n",
       "      <td>0</td>\n",
       "      <td>0</td>\n",
       "      <td>0</td>\n",
       "      <td>0</td>\n",
       "      <td>0</td>\n",
       "      <td>0</td>\n",
       "      <td>0</td>\n",
       "    </tr>\n",
       "    <tr>\n",
       "      <th>1</th>\n",
       "      <td>0</td>\n",
       "      <td>0</td>\n",
       "      <td>0</td>\n",
       "      <td>0</td>\n",
       "      <td>0</td>\n",
       "      <td>0</td>\n",
       "      <td>0</td>\n",
       "      <td>0</td>\n",
       "      <td>0</td>\n",
       "      <td>0</td>\n",
       "      <td>...</td>\n",
       "      <td>0</td>\n",
       "      <td>0</td>\n",
       "      <td>0</td>\n",
       "      <td>0</td>\n",
       "      <td>0</td>\n",
       "      <td>0</td>\n",
       "      <td>0</td>\n",
       "      <td>0</td>\n",
       "      <td>0</td>\n",
       "      <td>0</td>\n",
       "    </tr>\n",
       "    <tr>\n",
       "      <th>2</th>\n",
       "      <td>0</td>\n",
       "      <td>0</td>\n",
       "      <td>0</td>\n",
       "      <td>0</td>\n",
       "      <td>0</td>\n",
       "      <td>0</td>\n",
       "      <td>0</td>\n",
       "      <td>0</td>\n",
       "      <td>0</td>\n",
       "      <td>0</td>\n",
       "      <td>...</td>\n",
       "      <td>0</td>\n",
       "      <td>0</td>\n",
       "      <td>0</td>\n",
       "      <td>0</td>\n",
       "      <td>0</td>\n",
       "      <td>0</td>\n",
       "      <td>0</td>\n",
       "      <td>0</td>\n",
       "      <td>0</td>\n",
       "      <td>0</td>\n",
       "    </tr>\n",
       "    <tr>\n",
       "      <th>3</th>\n",
       "      <td>0</td>\n",
       "      <td>0</td>\n",
       "      <td>0</td>\n",
       "      <td>0</td>\n",
       "      <td>0</td>\n",
       "      <td>0</td>\n",
       "      <td>0</td>\n",
       "      <td>0</td>\n",
       "      <td>0</td>\n",
       "      <td>0</td>\n",
       "      <td>...</td>\n",
       "      <td>0</td>\n",
       "      <td>0</td>\n",
       "      <td>0</td>\n",
       "      <td>0</td>\n",
       "      <td>0</td>\n",
       "      <td>0</td>\n",
       "      <td>0</td>\n",
       "      <td>0</td>\n",
       "      <td>0</td>\n",
       "      <td>0</td>\n",
       "    </tr>\n",
       "    <tr>\n",
       "      <th>4</th>\n",
       "      <td>0</td>\n",
       "      <td>0</td>\n",
       "      <td>0</td>\n",
       "      <td>0</td>\n",
       "      <td>0</td>\n",
       "      <td>0</td>\n",
       "      <td>0</td>\n",
       "      <td>0</td>\n",
       "      <td>0</td>\n",
       "      <td>0</td>\n",
       "      <td>...</td>\n",
       "      <td>0</td>\n",
       "      <td>0</td>\n",
       "      <td>0</td>\n",
       "      <td>0</td>\n",
       "      <td>0</td>\n",
       "      <td>0</td>\n",
       "      <td>0</td>\n",
       "      <td>0</td>\n",
       "      <td>0</td>\n",
       "      <td>0</td>\n",
       "    </tr>\n",
       "  </tbody>\n",
       "</table>\n",
       "<p>5 rows × 784 columns</p>\n",
       "</div>"
      ],
      "text/plain": [
       "   pixel0  pixel1  pixel2  pixel3  pixel4  pixel5  pixel6  pixel7  pixel8  \\\n",
       "0       0       0       0       0       0       0       0       0       0   \n",
       "1       0       0       0       0       0       0       0       0       0   \n",
       "2       0       0       0       0       0       0       0       0       0   \n",
       "3       0       0       0       0       0       0       0       0       0   \n",
       "4       0       0       0       0       0       0       0       0       0   \n",
       "\n",
       "   pixel9    ...     pixel774  pixel775  pixel776  pixel777  pixel778  \\\n",
       "0       0    ...            0         0         0         0         0   \n",
       "1       0    ...            0         0         0         0         0   \n",
       "2       0    ...            0         0         0         0         0   \n",
       "3       0    ...            0         0         0         0         0   \n",
       "4       0    ...            0         0         0         0         0   \n",
       "\n",
       "   pixel779  pixel780  pixel781  pixel782  pixel783  \n",
       "0         0         0         0         0         0  \n",
       "1         0         0         0         0         0  \n",
       "2         0         0         0         0         0  \n",
       "3         0         0         0         0         0  \n",
       "4         0         0         0         0         0  \n",
       "\n",
       "[5 rows x 784 columns]"
      ]
     },
     "execution_count": 4,
     "metadata": {},
     "output_type": "execute_result"
    }
   ],
   "source": [
    "test= pd.read_csv(\"test.csv\")\n",
    "print(test.shape)\n",
    "test.head()"
   ]
  },
  {
   "cell_type": "code",
   "execution_count": 5,
   "metadata": {
    "collapsed": true
   },
   "outputs": [],
   "source": [
    "X_train = (train.ix[:,1:].values).astype('float32') # all pixel values\n",
    "y_train = train.ix[:,0].values.astype('int32') # only labels i.e targets digits\n",
    "X_test = test.values.astype('float32')"
   ]
  },
  {
   "cell_type": "code",
   "execution_count": 6,
   "metadata": {},
   "outputs": [
    {
     "data": {
      "text/plain": [
       "array([[ 0.,  0.,  0., ...,  0.,  0.,  0.],\n",
       "       [ 0.,  0.,  0., ...,  0.,  0.,  0.],\n",
       "       [ 0.,  0.,  0., ...,  0.,  0.,  0.],\n",
       "       ..., \n",
       "       [ 0.,  0.,  0., ...,  0.,  0.,  0.],\n",
       "       [ 0.,  0.,  0., ...,  0.,  0.,  0.],\n",
       "       [ 0.,  0.,  0., ...,  0.,  0.,  0.]], dtype=float32)"
      ]
     },
     "execution_count": 6,
     "metadata": {},
     "output_type": "execute_result"
    }
   ],
   "source": [
    "X_train"
   ]
  },
  {
   "cell_type": "code",
   "execution_count": 7,
   "metadata": {},
   "outputs": [
    {
     "data": {
      "text/plain": [
       "array([1, 0, 1, ..., 7, 6, 9], dtype=int32)"
      ]
     },
     "execution_count": 7,
     "metadata": {},
     "output_type": "execute_result"
    }
   ],
   "source": [
    "y_train"
   ]
  },
  {
   "cell_type": "markdown",
   "metadata": {},
   "source": [
    "The output variable is an integer from 0 to 9. This is a multiclass classification problem."
   ]
  },
  {
   "cell_type": "code",
   "execution_count": 8,
   "metadata": {},
   "outputs": [
    {
     "data": {
      "image/png": "[encoded data removed]",
      "text/plain": [
       "<matplotlib.figure.Figure at 0x7fb430adcf98>"
      ]
     },
     "metadata": {},
     "output_type": "display_data"
    }
   ],
   "source": [
    "#Convert train datset to (num_images, img_rows, img_cols) format \n",
    "X_train = X_train.reshape(X_train.shape[0], 28, 28)\n",
    "\n",
    "for i in range(6, 9):\n",
    "    plt.subplot(330 + (i+1))\n",
    "    plt.imshow(X_train[i], cmap=plt.get_cmap('gray'))\n",
    "    plt.title(y_train[i]);"
   ]
  },
  {
   "cell_type": "code",
   "execution_count": 9,
   "metadata": {},
   "outputs": [
    {
     "data": {
      "text/plain": [
       "(42000, 28, 28, 1)"
      ]
     },
     "execution_count": 9,
     "metadata": {},
     "output_type": "execute_result"
    }
   ],
   "source": [
    "#expand 1 more dimention as 1 for colour channel gray\n",
    "X_train = X_train.reshape(X_train.shape[0], 28, 28,1)\n",
    "X_train.shape"
   ]
  },
  {
   "cell_type": "code",
   "execution_count": 10,
   "metadata": {},
   "outputs": [
    {
     "data": {
      "text/plain": [
       "(28000, 28, 28, 1)"
      ]
     },
     "execution_count": 10,
     "metadata": {},
     "output_type": "execute_result"
    }
   ],
   "source": [
    "X_test = X_test.reshape(X_test.shape[0], 28, 28,1)\n",
    "X_test.shape"
   ]
  },
  {
   "cell_type": "markdown",
   "metadata": {},
   "source": [
    "# Preprocessing the digit images"
   ]
  },
  {
   "cell_type": "markdown",
   "metadata": {},
   "source": [
    "Feature Standardization"
   ]
  },
  {
   "cell_type": "code",
   "execution_count": 14,
   "metadata": {
    "collapsed": true
   },
   "outputs": [],
   "source": [
    "mean_px = X_train.mean().astype(np.float32)\n",
    "std_px = X_train.std().astype(np.float32)\n",
    "\n",
    "def standardize(x): \n",
    "    return (x-mean_px)/std_px\n"
   ]
  },
  {
   "cell_type": "code",
   "execution_count": 18,
   "metadata": {},
   "outputs": [
    {
     "data": {
      "text/plain": [
       "78.677589"
      ]
     },
     "execution_count": 18,
     "metadata": {},
     "output_type": "execute_result"
    }
   ],
   "source": [
    "std_px"
   ]
  },
  {
   "cell_type": "markdown",
   "metadata": {},
   "source": [
    "One Hot encoding of labels.\n",
    "\n",
    "A one-hot vector is a vector which is 0 in most dimensions, and 1 in a single dimension.\n",
    "\n",
    "In this case, the nth digit will be represented as a vector which is 1 in the nth dimension.\n",
    "\n",
    "For example, 3 would be [0,0,0,1,0,0,0,0,0,0]."
   ]
  },
  {
   "cell_type": "code",
   "execution_count": 19,
   "metadata": {},
   "outputs": [
    {
     "data": {
      "text/plain": [
       "10"
      ]
     },
     "execution_count": 19,
     "metadata": {},
     "output_type": "execute_result"
    }
   ],
   "source": [
    "from keras.utils.np_utils import to_categorical\n",
    "y_train= to_categorical(y_train)\n",
    "num_classes = y_train.shape[1]\n",
    "num_classes"
   ]
  },
  {
   "cell_type": "markdown",
   "metadata": {},
   "source": [
    "Lets plot 10th label."
   ]
  },
  {
   "cell_type": "code",
   "execution_count": 20,
   "metadata": {},
   "outputs": [
    {
     "data": {
      "image/png": "[encoded data removed]",
      "text/plain": [
       "<matplotlib.figure.Figure at 0x7fb4326286d8>"
      ]
     },
     "metadata": {},
     "output_type": "display_data"
    }
   ],
   "source": [
    "plt.title(y_train[9])\n",
    "plt.plot(y_train[9])\n",
    "plt.xticks(range(10));"
   ]
  },
  {
   "cell_type": "markdown",
   "metadata": {},
   "source": [
    "# Designing neural network architecture\n"
   ]
  },
  {
   "cell_type": "markdown",
   "metadata": {},
   "source": [
    "\n",
    "Linear model"
   ]
  },
  {
   "cell_type": "code",
   "execution_count": 21,
   "metadata": {
    "collapsed": true
   },
   "outputs": [],
   "source": [
    "from keras.models import  Sequential\n",
    "from keras.layers.core import  Lambda , Dense, Flatten, Dropout\n",
    "from keras.callbacks import EarlyStopping\n",
    "from keras.layers import BatchNormalization, Convolution2D , MaxPooling2D"
   ]
  },
  {
   "cell_type": "markdown",
   "metadata": {},
   "source": [
    "Lets create a simple model from Keras Sequential layer.\n",
    "\n",
    "Lambda layer performs simple arithmetic operations like sum, average, exponentiation etc.\n",
    "\n",
    "In 1st layer of the model we have to define input dimensions of our data in (rows,columns,colour channel) format.\n",
    "(In theano colour channel comes first)\n",
    "\n",
    "Flatten will transform input into 1D array.\n",
    "\n",
    "Dense is fully connected layer that means all neurons in previous layers will be connected to all neurons in fully connected layer.\n",
    "In the last layer we have to specify output dimensions/classes of the model.\n",
    "Here it's 10, since we have to output 10 different digit labels.\n"
   ]
  },
  {
   "cell_type": "code",
   "execution_count": 22,
   "metadata": {},
   "outputs": [
    {
     "name": "stdout",
     "output_type": "stream",
     "text": [
      "input shape  (None, 28, 28, 1)\n",
      "output shape  (None, 10)\n"
     ]
    }
   ],
   "source": [
    "model= Sequential()\n",
    "model.add(Lambda(standardize,input_shape=(28,28,1)))\n",
    "model.add(Flatten())\n",
    "model.add(Dense(10, activation='softmax'))\n",
    "print(\"input shape \",model.input_shape)\n",
    "print(\"output shape \",model.output_shape)"
   ]
  },
  {
   "cell_type": "markdown",
   "metadata": {},
   "source": [
    "Compile network\n",
    "\n",
    "Before making network ready for training we have to make sure to add below things:\n",
    "A loss function: to measure how good the network is\n",
    "An optimizer: to update network as it sees more data and reduce loss value\n",
    "Metrics: to monitor performance of network\n",
    "    \n"
   ]
  },
  {
   "cell_type": "code",
   "execution_count": 23,
   "metadata": {
    "collapsed": true
   },
   "outputs": [],
   "source": [
    "from keras.optimizers import Adam ,RMSprop\n",
    "model.compile(Adam(), loss='categorical_crossentropy', metrics=['accuracy'])"
   ]
  },
  {
   "cell_type": "code",
   "execution_count": 27,
   "metadata": {},
   "outputs": [],
   "source": [
    "from keras.preprocessing import image\n",
    "gen = image.ImageDataGenerator()\n",
    "from sklearn.model_selection import train_test_split\n",
    "X_train, X_val, y_train, y_val = train_test_split(X_train, y_train, test_size=0.10, random_state=42)\n",
    "batches = gen.flow(X_train, y_train, batch_size=64)\n",
    "val_batches=gen.flow(X_val, y_val, batch_size=64)"
   ]
  },
  {
   "cell_type": "code",
   "execution_count": 33,
   "metadata": {},
   "outputs": [
    {
     "data": {
      "text/plain": [
       "4200"
      ]
     },
     "execution_count": 33,
     "metadata": {},
     "output_type": "execute_result"
    }
   ],
   "source": [
    "val_batches.n"
   ]
  },
  {
   "cell_type": "code",
   "execution_count": 34,
   "metadata": {},
   "outputs": [
    {
     "name": "stdout",
     "output_type": "stream",
     "text": [
      "Epoch 1/1\n",
      "37800/37800 [==============================] - 6s - loss: 0.4809 - acc: 0.8542 - val_loss: 0.3369 - val_acc: 0.9026\n"
     ]
    }
   ],
   "source": [
    "history=model.fit_generator(batches, batches.n, nb_epoch=1, \n",
    "                    validation_data=val_batches, nb_val_samples=val_batches.n)\n"
   ]
  },
  {
   "cell_type": "code",
   "execution_count": null,
   "metadata": {
    "collapsed": true
   },
   "outputs": [],
   "source": [
    "history_dict = history.history\n",
    "history_dict.keys()\n",
    "\n",
    "model = Sequential()\n",
    "model.add(Dense(64, activation='relu',input_dim=(28 * 28)))\n",
    "model.add(Dense(128, activation='relu'))\n",
    "model.add(Dropout(0.15))\n",
    "model.add(Dense(64, activation='relu'))\n",
    "model.add(Dropout(0.15))\n",
    "model.add(Dense(10, activation='softmax'))\n",
    "\n",
    "\n",
    "model.compile(optimizer=RMSprop(lr=0.0001), loss='categorical_crossentropy',\n",
    " metrics=['accuracy'])\n",
    "\n",
    "history=model.fit(train_images, train_labels, \n",
    "            epochs=15, batch_size=64)"
   ]
  },
  {
   "cell_type": "markdown",
   "metadata": {},
   "source": [
    "From the graphs we can see that training loss is decreasing and training accuracy is increasing slowly. Thats what we intended to do using gradient descent.\n",
    "But thats not the case with validation set\n",
    "after 15th epoch val_loss is increasing and val_acc is decreasing.\n",
    "That is called as **overfitting**.\n",
    "\n",
    "after the second epoch, we are over optimising on the training data, and we ended up learning representations that are specific to the training data and do not generalize to data outside of the training set\n",
    "\n",
    "To avoid this we will simply stop training after 15 epochs."
   ]
  },
  {
   "cell_type": "code",
   "execution_count": 35,
   "metadata": {},
   "outputs": [
    {
     "name": "stdout",
     "output_type": "stream",
     "text": [
      "Epoch 1/1\n",
      "37800/37800 [==============================] - 5s - loss: 0.3078 - acc: 0.9118 - val_loss: 0.3197 - val_acc: 0.9064\n"
     ]
    }
   ],
   "source": [
    "model.optimizer.lr=0.1\n",
    "history=model.fit_generator(batches, batches.n, nb_epoch=1, \n",
    "                    validation_data=val_batches, nb_val_samples=val_batches.n)\n"
   ]
  },
  {
   "cell_type": "code",
   "execution_count": 20,
   "metadata": {},
   "outputs": [
    {
     "name": "stdout",
     "output_type": "stream",
     "text": [
      "Train on 39900 samples, validate on 2100 samples\n",
      "Epoch 1/3\n",
      "39900/39900 [==============================] - 1s - loss: 0.2427 - acc: 0.9309 - val_loss: 0.3225 - val_acc: 0.9186\n",
      "Epoch 2/3\n",
      "39900/39900 [==============================] - 1s - loss: 0.2424 - acc: 0.9314 - val_loss: 0.3247 - val_acc: 0.9186\n",
      "Epoch 3/3\n",
      "39900/39900 [==============================] - 1s - loss: 0.2405 - acc: 0.9304 - val_loss: 0.3139 - val_acc: 0.9171\n"
     ]
    }
   ],
   "source": [
    "model.optimizer.lr=0.01\n",
    "history=model.fit(X_train, y_train,validation_split = 0.05, \n",
    "            nb_epoch=3, batch_size=64)"
   ]
  },
  {
   "cell_type": "markdown",
   "metadata": {},
   "source": [
    "Fully Connected Model"
   ]
  },
  {
   "cell_type": "code",
   "execution_count": 46,
   "metadata": {
    "collapsed": true
   },
   "outputs": [],
   "source": [
    "def get_fully_connected_model():\n",
    "    model=Sequential([Lambda(standardize,input_shape=(28,28,1)),\n",
    "                     Flatten(),\n",
    "                     Dense(512,activation='relu'),\n",
    "                     Dense(10, activation='softmax')])\n",
    "    model.compile(Adam(),metrics=['accuracy'],loss='categorical_crossentropy')\n",
    "    return model"
   ]
  },
  {
   "cell_type": "code",
   "execution_count": 47,
   "metadata": {
    "collapsed": true
   },
   "outputs": [],
   "source": [
    "fc_model=get_fully_connected_model()"
   ]
  },
  {
   "cell_type": "code",
   "execution_count": 48,
   "metadata": {},
   "outputs": [
    {
     "name": "stdout",
     "output_type": "stream",
     "text": [
      "Train on 38220 samples, validate on 3780 samples\n",
      "Epoch 1/3\n",
      "2s - loss: 0.2263 - acc: 0.9305 - val_loss: 0.1385 - val_acc: 0.9569\n",
      "Epoch 2/3\n",
      "2s - loss: 0.0928 - acc: 0.9714 - val_loss: 0.1019 - val_acc: 0.9690\n",
      "Epoch 3/3\n",
      "2s - loss: 0.0603 - acc: 0.9806 - val_loss: 0.1081 - val_acc: 0.9685\n"
     ]
    }
   ],
   "source": [
    "history=fc_model.fit(X_train, y_train,validation_split = 0.09, \n",
    "            nb_epoch=3, batch_size=64,verbose=2)"
   ]
  },
  {
   "cell_type": "code",
   "execution_count": 48,
   "metadata": {},
   "outputs": [
    {
     "name": "stdout",
     "output_type": "stream",
     "text": [
      "Train on 37800 samples, validate on 4200 samples\n",
      "Epoch 1/5\n",
      "2s - loss: 0.0074 - acc: 0.9979 - val_loss: 0.1373 - val_acc: 0.9783\n",
      "Epoch 2/5\n",
      "2s - loss: 0.0070 - acc: 0.9979 - val_loss: 0.1227 - val_acc: 0.9793\n",
      "Epoch 3/5\n",
      "2s - loss: 0.0089 - acc: 0.9975 - val_loss: 0.1413 - val_acc: 0.9774\n",
      "Epoch 4/5\n",
      "1s - loss: 0.0069 - acc: 0.9976 - val_loss: 0.1172 - val_acc: 0.9788\n",
      "Epoch 5/5\n",
      "1s - loss: 0.0128 - acc: 0.9964 - val_loss: 0.1470 - val_acc: 0.9764\n"
     ]
    }
   ],
   "source": [
    "fc_model.optimizer.lr=0.001\n",
    "history=fc_model.fit(X_train, y_train,validation_split = 0.10, \n",
    "            nb_epoch=5, batch_size=64,verbose=2)"
   ]
  },
  {
   "cell_type": "markdown",
   "metadata": {},
   "source": [
    "Adding convolutional layers"
   ]
  },
  {
   "cell_type": "code",
   "execution_count": 49,
   "metadata": {
    "collapsed": true
   },
   "outputs": [],
   "source": [
    "def get_cnn_model():\n",
    "    model=Sequential([\n",
    "                        Lambda(standardize,input_shape=(28,28,1)),\n",
    "                        Convolution2D(32,3,3,activation='relu'),\n",
    "                        Convolution2D(32,3,3,activation='relu'),\n",
    "                        MaxPooling2D(pool_size=(2,2)),\n",
    "                        Convolution2D(64,3,3,activation='relu'),\n",
    "                        Convolution2D(64,3,3,activation='relu'),\n",
    "                        MaxPooling2D(pool_size=(2,2)),\n",
    "                        Flatten(),\n",
    "                        Dense(512,activation='relu'),\n",
    "                        Dense(10, activation='softmax')\n",
    "                     ])\n",
    "    model.compile(Adam(),metrics=['accuracy'],loss='categorical_crossentropy')\n",
    "    return model"
   ]
  },
  {
   "cell_type": "code",
   "execution_count": 50,
   "metadata": {
    "collapsed": true
   },
   "outputs": [],
   "source": [
    "cnn_model=get_cnn_model()"
   ]
  },
  {
   "cell_type": "code",
   "execution_count": 51,
   "metadata": {},
   "outputs": [
    {
     "name": "stdout",
     "output_type": "stream",
     "text": [
      "Train on 37800 samples, validate on 4200 samples\n",
      "Epoch 1/2\n",
      "5s - loss: 0.1477 - acc: 0.9548 - val_loss: 0.0529 - val_acc: 0.9848\n",
      "Epoch 2/2\n",
      "4s - loss: 0.0425 - acc: 0.9873 - val_loss: 0.0301 - val_acc: 0.9895\n"
     ]
    }
   ],
   "source": [
    "history=cnn_model.fit(X_train, y_train,validation_split = 0.10, \n",
    "            nb_epoch=2, batch_size=64,verbose=2)"
   ]
  },
  {
   "cell_type": "code",
   "execution_count": 92,
   "metadata": {},
   "outputs": [
    {
     "name": "stdout",
     "output_type": "stream",
     "text": [
      "Train on 37800 samples, validate on 4200 samples\n",
      "Epoch 1/2\n",
      "4s - loss: 0.0177 - acc: 0.9946 - val_loss: 0.0270 - val_acc: 0.9910\n",
      "Epoch 2/2\n",
      "4s - loss: 0.0141 - acc: 0.9954 - val_loss: 0.0386 - val_acc: 0.9900\n"
     ]
    }
   ],
   "source": [
    "cnn_model.optimizer.lr=0.01\n",
    "history=cnn_model.fit(X_train, y_train,validation_split = 0.10, \n",
    "            nb_epoch=2, batch_size=64,verbose=2)"
   ]
  },
  {
   "cell_type": "markdown",
   "metadata": {},
   "source": [
    "Data augmentation"
   ]
  },
  {
   "cell_type": "code",
   "execution_count": 53,
   "metadata": {
    "collapsed": true
   },
   "outputs": [],
   "source": [
    "gen=image.ImageDataGenerator(\n",
    "    zca_whitening=True, rotation_range=8.0, width_shift_range=0.8, height_shift_range=0.08, shear_range=0.3,\n",
    "    zoom_range=0.08)"
   ]
  },
  {
   "cell_type": "code",
   "execution_count": 54,
   "metadata": {
    "collapsed": true
   },
   "outputs": [],
   "source": [
    "batches = gen.flow(X_train, y_train, batch_size=64)"
   ]
  },
  {
   "cell_type": "code",
   "execution_count": 91,
   "metadata": {},
   "outputs": [
    {
     "name": "stdout",
     "output_type": "stream",
     "text": [
      "Train on 37800 samples, validate on 4200 samples\n",
      "Epoch 1/2\n",
      "4s - loss: 0.0300 - acc: 0.9901 - val_loss: 0.0374 - val_acc: 0.9879\n",
      "Epoch 2/2\n",
      "4s - loss: 0.0227 - acc: 0.9931 - val_loss: 0.0266 - val_acc: 0.9914\n"
     ]
    }
   ],
   "source": [
    "cnn_model.optimizer.lr=0.01\n",
    "history=cnn_model.fit(X_train, y_train,validation_split = 0.10, \n",
    "            nb_epoch=2, batch_size=64,verbose=2)"
   ]
  },
  {
   "cell_type": "markdown",
   "metadata": {},
   "source": [
    "Batch Normalization"
   ]
  },
  {
   "cell_type": "code",
   "execution_count": 18,
   "metadata": {
    "collapsed": true
   },
   "outputs": [],
   "source": [
    "def get_bn_model():\n",
    "    model = Sequential([\n",
    "                        Lambda(standardize,input_shape=(28,28,1)),\n",
    "                        Convolution2D(32,3,3,activation='relu'),\n",
    "                        BatchNormalization(),\n",
    "                        Convolution2D(32,3,3,activation='relu'),\n",
    "                        BatchNormalization(),\n",
    "                        MaxPooling2D(pool_size=(2,2)),\n",
    "                        Convolution2D(64,3,3,activation='relu'),\n",
    "                        BatchNormalization(),\n",
    "                        Convolution2D(64,3,3,activation='relu'),\n",
    "                        BatchNormalization(),\n",
    "                        MaxPooling2D(pool_size=(2,2)),\n",
    "                        Flatten(),\n",
    "                        Dense(512,activation='relu'),\n",
    "                        BatchNormalization(),\n",
    "                        Dense(10, activation='softmax')\n",
    "        ])\n",
    "    model.compile(Adam(), loss='categorical_crossentropy', metrics=['accuracy'])\n",
    "    return model"
   ]
  },
  {
   "cell_type": "code",
   "execution_count": 19,
   "metadata": {
    "collapsed": true
   },
   "outputs": [],
   "source": [
    "bn_model=get_bn_model()"
   ]
  },
  {
   "cell_type": "code",
   "execution_count": 94,
   "metadata": {},
   "outputs": [
    {
     "name": "stdout",
     "output_type": "stream",
     "text": [
      "Train on 37800 samples, validate on 4200 samples\n",
      "Epoch 1/2\n",
      "9s - loss: 0.0401 - acc: 0.9871 - val_loss: 0.0436 - val_acc: 0.9848\n",
      "Epoch 2/2\n",
      "9s - loss: 0.0292 - acc: 0.9903 - val_loss: 0.0312 - val_acc: 0.9907\n"
     ]
    }
   ],
   "source": [
    "history=bn_model.fit(X_train, y_train,validation_split = 0.10, \n",
    "            nb_epoch=2, batch_size=64,verbose=2)"
   ]
  },
  {
   "cell_type": "code",
   "execution_count": 95,
   "metadata": {},
   "outputs": [
    {
     "name": "stdout",
     "output_type": "stream",
     "text": [
      "Train on 37800 samples, validate on 4200 samples\n",
      "Epoch 1/2\n",
      "9s - loss: 0.0207 - acc: 0.9936 - val_loss: 0.0416 - val_acc: 0.9862\n",
      "Epoch 2/2\n",
      "9s - loss: 0.0186 - acc: 0.9939 - val_loss: 0.0231 - val_acc: 0.9924\n"
     ]
    }
   ],
   "source": [
    "bn_model.optimizer.lr=0.01\n",
    "history=bn_model.fit(X_train, y_train,validation_split = 0.10, \n",
    "            nb_epoch=2, batch_size=64,verbose=2)"
   ]
  },
  {
   "cell_type": "code",
   "execution_count": 20,
   "metadata": {},
   "outputs": [
    {
     "name": "stdout",
     "output_type": "stream",
     "text": [
      "Train on 37800 samples, validate on 4200 samples\n",
      "Epoch 1/15\n",
      "9s - loss: 0.1017 - acc: 0.9682 - val_loss: 0.0525 - val_acc: 0.9821\n",
      "Epoch 2/15\n",
      "8s - loss: 0.0372 - acc: 0.9885 - val_loss: 0.0595 - val_acc: 0.9831\n",
      "Epoch 3/15\n",
      "8s - loss: 0.0280 - acc: 0.9913 - val_loss: 0.0329 - val_acc: 0.9907\n",
      "Epoch 4/15\n",
      "8s - loss: 0.0241 - acc: 0.9921 - val_loss: 0.0281 - val_acc: 0.9919\n",
      "Epoch 5/15\n",
      "8s - loss: 0.0196 - acc: 0.9935 - val_loss: 0.0400 - val_acc: 0.9876\n",
      "Epoch 6/15\n",
      "8s - loss: 0.0181 - acc: 0.9942 - val_loss: 0.0394 - val_acc: 0.9879\n",
      "Epoch 7/15\n",
      "7s - loss: 0.0141 - acc: 0.9960 - val_loss: 0.0346 - val_acc: 0.9902\n",
      "Epoch 8/15\n",
      "8s - loss: 0.0127 - acc: 0.9959 - val_loss: 0.0296 - val_acc: 0.9919\n",
      "Epoch 9/15\n",
      "8s - loss: 0.0110 - acc: 0.9966 - val_loss: 0.0279 - val_acc: 0.9914\n",
      "Epoch 10/15\n",
      "8s - loss: 0.0111 - acc: 0.9965 - val_loss: 0.0274 - val_acc: 0.9933\n",
      "Epoch 11/15\n",
      "8s - loss: 0.0120 - acc: 0.9961 - val_loss: 0.0339 - val_acc: 0.9917\n",
      "Epoch 12/15\n",
      "8s - loss: 0.0093 - acc: 0.9972 - val_loss: 0.0284 - val_acc: 0.9936\n",
      "Epoch 13/15\n",
      "8s - loss: 0.0089 - acc: 0.9976 - val_loss: 0.0290 - val_acc: 0.9929\n",
      "Epoch 14/15\n",
      "8s - loss: 0.0085 - acc: 0.9971 - val_loss: 0.0273 - val_acc: 0.9924\n",
      "Epoch 15/15\n",
      "8s - loss: 0.0059 - acc: 0.9979 - val_loss: 0.0386 - val_acc: 0.9881\n"
     ]
    }
   ],
   "source": [
    "bn_model.optimizer.lr=0.001\n",
    "history=bn_model.fit(X_train, y_train,validation_split = 0.10, \n",
    "            nb_epoch=15, batch_size=64,verbose=2)"
   ]
  },
  {
   "cell_type": "markdown",
   "metadata": {
    "collapsed": true
   },
   "source": [
    "Adding Dropout layer to prevent overfitting of model"
   ]
  },
  {
   "cell_type": "code",
   "execution_count": 37,
   "metadata": {
    "collapsed": true
   },
   "outputs": [],
   "source": [
    "def get_bn_with_dropout_model():\n",
    "    model = Sequential([\n",
    "                        Lambda(standardize,input_shape=(28,28,1)),\n",
    "                        Convolution2D(32,3,3,activation='relu'),\n",
    "                        BatchNormalization(),\n",
    "                        Convolution2D(64,3,3,activation='relu'),\n",
    "                        BatchNormalization(),\n",
    "                        MaxPooling2D(pool_size=(2,2)),\n",
    "                        Convolution2D(128,3,3,activation='relu'),\n",
    "                        BatchNormalization(),\n",
    "                        Convolution2D(128,3,3,activation='relu'),\n",
    "                        BatchNormalization(),\n",
    "                        MaxPooling2D(pool_size=(2,2)),\n",
    "                        Flatten(),\n",
    "                        Dense(512,activation='relu'),\n",
    "                        BatchNormalization(),\n",
    "                        Dropout(0.5),\n",
    "                        Dense(10, activation='softmax')\n",
    "        ])\n",
    "    model.compile(Adam(), loss='categorical_crossentropy', metrics=['accuracy'])\n",
    "    return model"
   ]
  },
  {
   "cell_type": "code",
   "execution_count": 38,
   "metadata": {},
   "outputs": [
    {
     "name": "stdout",
     "output_type": "stream",
     "text": [
      "Train on 37800 samples, validate on 4200 samples\n",
      "Epoch 1/15\n",
      "12s - loss: 0.1259 - acc: 0.9618 - val_loss: 0.0920 - val_acc: 0.9719\n",
      "Epoch 2/15\n",
      "10s - loss: 0.0474 - acc: 0.9850 - val_loss: 0.0503 - val_acc: 0.9864\n",
      "Epoch 3/15\n",
      "10s - loss: 0.0393 - acc: 0.9880 - val_loss: 0.0224 - val_acc: 0.9929\n",
      "Epoch 4/15\n",
      "10s - loss: 0.0312 - acc: 0.9903 - val_loss: 0.0248 - val_acc: 0.9921\n",
      "Epoch 5/15\n",
      "10s - loss: 0.0273 - acc: 0.9911 - val_loss: 0.0311 - val_acc: 0.9886\n",
      "Epoch 6/15\n",
      "10s - loss: 0.0245 - acc: 0.9917 - val_loss: 0.0241 - val_acc: 0.9929\n",
      "Epoch 7/15\n",
      "10s - loss: 0.0227 - acc: 0.9928 - val_loss: 0.0238 - val_acc: 0.9933\n",
      "Epoch 8/15\n",
      "10s - loss: 0.0209 - acc: 0.9928 - val_loss: 0.0288 - val_acc: 0.9924\n",
      "Epoch 9/15\n",
      "10s - loss: 0.0173 - acc: 0.9943 - val_loss: 0.0344 - val_acc: 0.9905\n",
      "Epoch 10/15\n",
      "10s - loss: 0.0176 - acc: 0.9940 - val_loss: 0.0365 - val_acc: 0.9893\n",
      "Epoch 11/15\n",
      "10s - loss: 0.0165 - acc: 0.9947 - val_loss: 0.0331 - val_acc: 0.9898\n",
      "Epoch 12/15\n",
      "10s - loss: 0.0117 - acc: 0.9965 - val_loss: 0.0247 - val_acc: 0.9929\n",
      "Epoch 13/15\n",
      "10s - loss: 0.0109 - acc: 0.9963 - val_loss: 0.0269 - val_acc: 0.9924\n",
      "Epoch 14/15\n",
      "10s - loss: 0.0117 - acc: 0.9964 - val_loss: 0.0367 - val_acc: 0.9900\n",
      "Epoch 15/15\n",
      "10s - loss: 0.0132 - acc: 0.9960 - val_loss: 0.0245 - val_acc: 0.9929\n"
     ]
    }
   ],
   "source": [
    "bn_with_dropout_model = get_bn_with_dropout_model()\n",
    "\n",
    "bn_with_dropout_model.optimizer.lr=0.001\n",
    "history=bn_with_dropout_model.fit(X_train, y_train,validation_split = 0.10, \n",
    "            nb_epoch=15, batch_size=64,verbose=2)"
   ]
  },
  {
   "cell_type": "code",
   "execution_count": 28,
   "metadata": {},
   "outputs": [
    {
     "name": "stdout",
     "output_type": "stream",
     "text": [
      "Epoch 1/15\n",
      "10s - loss: 0.1358 - acc: 0.9584\n",
      "Epoch 2/15\n",
      "9s - loss: 0.0510 - acc: 0.9844\n",
      "Epoch 3/15\n",
      "9s - loss: 0.0401 - acc: 0.9873\n",
      "Epoch 4/15\n",
      "9s - loss: 0.0317 - acc: 0.9892\n",
      "Epoch 5/15\n",
      "10s - loss: 0.0298 - acc: 0.9900\n",
      "Epoch 6/15\n",
      "9s - loss: 0.0254 - acc: 0.9916\n",
      "Epoch 7/15\n",
      "10s - loss: 0.0241 - acc: 0.9925\n",
      "Epoch 8/15\n",
      "10s - loss: 0.0227 - acc: 0.9930\n",
      "Epoch 9/15\n",
      "10s - loss: 0.0192 - acc: 0.9939\n",
      "Epoch 10/15\n",
      "10s - loss: 0.0166 - acc: 0.9950\n",
      "Epoch 11/15\n",
      "10s - loss: 0.0170 - acc: 0.9948\n",
      "Epoch 12/15\n",
      "10s - loss: 0.0151 - acc: 0.9952\n",
      "Epoch 13/15\n",
      "10s - loss: 0.0123 - acc: 0.9959\n",
      "Epoch 14/15\n",
      "9s - loss: 0.0104 - acc: 0.9965\n",
      "Epoch 15/15\n",
      "9s - loss: 0.0121 - acc: 0.9956\n"
     ]
    }
   ],
   "source": [
    "bn_with_dropout_model = get_bn_with_dropout_model()\n",
    "\n",
    "bn_with_dropout_model.optimizer.lr=0.001\n",
    "history=bn_with_dropout_model.fit(X_train, y_train, \n",
    "            nb_epoch=15, batch_size=64,verbose=2)"
   ]
  },
  {
   "cell_type": "code",
   "execution_count": 31,
   "metadata": {},
   "outputs": [
    {
     "data": {
      "text/plain": [
       "array([2, 0, 9, ..., 3, 9, 2])"
      ]
     },
     "execution_count": 31,
     "metadata": {},
     "output_type": "execute_result"
    }
   ],
   "source": [
    "predictions = bn_with_dropout_model.predict_classes(X_test, verbose=0)\n",
    "\n",
    "submissions=pd.DataFrame({\"ImageId\": list(range(1,len(predictions)+1)),\n",
    "                         \"Label\": predictions})\n",
    "submissions.to_csv(\"DR.csv\", index=False, header=True)\n",
    "predictions"
   ]
  },
  {
   "cell_type": "markdown",
   "metadata": {},
   "source": [
    "Ensemble"
   ]
  },
  {
   "cell_type": "code",
   "execution_count": 44,
   "metadata": {
    "collapsed": true
   },
   "outputs": [],
   "source": [
    "def ensemble():\n",
    "    bn_with_dropout_model = get_bn_with_dropout_model()\n",
    "\n",
    "    bn_with_dropout_model.optimizer.lr=0.1\n",
    "    history=bn_with_dropout_model.fit(X_train, y_train,\n",
    "            nb_epoch=2, batch_size=64,verbose=2)\n",
    "    \n",
    "    bn_with_dropout_model.optimizer.lr=0.01\n",
    "    history=bn_with_dropout_model.fit(X_train, y_train, \n",
    "            nb_epoch=4, batch_size=64,verbose=2)\n",
    "    \n",
    "    bn_with_dropout_model.optimizer.lr=0.001\n",
    "    history=bn_with_dropout_model.fit(X_train, y_train, \n",
    "            nb_epoch=8, batch_size=64,verbose=2)\n",
    "    \n",
    "    bn_with_dropout_model.optimizer.lr=0.0001\n",
    "    history=bn_with_dropout_model.fit(X_train, y_train, \n",
    "            nb_epoch=15, batch_size=64,verbose=2)\n",
    "    \n",
    "    return model\n"
   ]
  },
  {
   "cell_type": "code",
   "execution_count": 45,
   "metadata": {},
   "outputs": [
    {
     "name": "stdout",
     "output_type": "stream",
     "text": [
      "Epoch 1/2\n",
      "13s - loss: 2.6668 - acc: 0.8164\n",
      "Epoch 2/2\n",
      "11s - loss: 3.4081 - acc: 0.7865\n",
      "Epoch 1/4\n",
      "11s - loss: 3.6669 - acc: 0.7714\n",
      "Epoch 2/4\n",
      "11s - loss: 2.7606 - acc: 0.8279\n",
      "Epoch 3/4\n",
      "11s - loss: 2.8856 - acc: 0.8205\n",
      "Epoch 4/4\n",
      "11s - loss: 2.5801 - acc: 0.8396\n",
      "Epoch 1/8\n",
      "10s - loss: 2.9881 - acc: 0.8143\n",
      "Epoch 2/8\n",
      "11s - loss: 2.3233 - acc: 0.8557\n",
      "Epoch 3/8\n",
      "11s - loss: 3.6671 - acc: 0.7721\n",
      "Epoch 4/8\n",
      "11s - loss: 3.5769 - acc: 0.7777\n",
      "Epoch 5/8\n",
      "11s - loss: 3.5357 - acc: 0.7804\n",
      "Epoch 6/8\n",
      "10s - loss: 3.2879 - acc: 0.7959\n",
      "Epoch 7/8\n",
      "11s - loss: 3.0311 - acc: 0.8117\n",
      "Epoch 8/8\n",
      "11s - loss: 3.0747 - acc: 0.8091\n",
      "Epoch 1/15\n",
      "11s - loss: 2.4926 - acc: 0.8453\n",
      "Epoch 2/15\n",
      "11s - loss: 2.3098 - acc: 0.8565\n",
      "Epoch 3/15\n",
      "11s - loss: 2.8299 - acc: 0.8243\n",
      "Epoch 4/15\n",
      "11s - loss: 3.3804 - acc: 0.7900\n",
      "Epoch 5/15\n",
      "11s - loss: 3.0954 - acc: 0.8078\n",
      "Epoch 6/15\n",
      "12s - loss: 2.2307 - acc: 0.8615\n",
      "Epoch 7/15\n",
      "12s - loss: 2.5426 - acc: 0.8422\n",
      "Epoch 8/15\n",
      "11s - loss: 2.2381 - acc: 0.8610\n",
      "Epoch 9/15\n",
      "11s - loss: 2.8919 - acc: 0.8205\n",
      "Epoch 10/15\n",
      "11s - loss: 2.3772 - acc: 0.8524\n",
      "Epoch 11/15\n",
      "11s - loss: 2.3634 - acc: 0.8533\n",
      "Epoch 12/15\n",
      "11s - loss: 2.6890 - acc: 0.8331\n",
      "Epoch 13/15\n",
      "12s - loss: 2.0934 - acc: 0.8700\n",
      "Epoch 14/15\n",
      "12s - loss: 2.3238 - acc: 0.8558\n",
      "Epoch 15/15\n",
      "12s - loss: 2.5430 - acc: 0.8421\n",
      "Epoch 1/2\n",
      "12s - loss: 2.9124 - acc: 0.8004\n",
      "Epoch 2/2\n",
      "11s - loss: 3.6653 - acc: 0.7704\n",
      "Epoch 1/4\n",
      "11s - loss: 2.9493 - acc: 0.8159\n",
      "Epoch 2/4\n",
      "11s - loss: 3.2079 - acc: 0.8000\n",
      "Epoch 3/4\n",
      "12s - loss: 3.1019 - acc: 0.8069\n",
      "Epoch 4/4\n",
      "12s - loss: 3.3578 - acc: 0.7913\n",
      "Epoch 1/8\n",
      "11s - loss: 3.1423 - acc: 0.8047\n",
      "Epoch 2/8\n",
      "11s - loss: 2.8837 - acc: 0.8207\n",
      "Epoch 3/8\n",
      "11s - loss: 3.5469 - acc: 0.7796\n",
      "Epoch 4/8\n",
      "12s - loss: 2.9704 - acc: 0.8155\n",
      "Epoch 5/8\n",
      "11s - loss: 2.3420 - acc: 0.8545\n",
      "Epoch 6/8\n",
      "12s - loss: 2.6759 - acc: 0.8338\n",
      "Epoch 7/8\n",
      "12s - loss: 2.3503 - acc: 0.8540\n",
      "Epoch 8/8\n",
      "11s - loss: 2.9977 - acc: 0.8139\n",
      "Epoch 1/15\n",
      "12s - loss: 2.7175 - acc: 0.8312\n",
      "Epoch 2/15\n",
      "11s - loss: 2.4682 - acc: 0.8467\n",
      "Epoch 3/15\n",
      "11s - loss: 2.7118 - acc: 0.8316\n",
      "Epoch 4/15\n",
      "11s - loss: 3.1439 - acc: 0.8048\n",
      "Epoch 5/15\n",
      "11s - loss: 4.7965 - acc: 0.7023\n",
      "Epoch 6/15\n",
      "11s - loss: 2.6608 - acc: 0.8348\n",
      "Epoch 7/15\n",
      "11s - loss: 2.3405 - acc: 0.8547\n",
      "Epoch 8/15\n",
      "12s - loss: 2.3896 - acc: 0.8516\n",
      "Epoch 9/15\n",
      "11s - loss: 2.6137 - acc: 0.8378\n",
      "Epoch 10/15\n",
      "11s - loss: 2.2228 - acc: 0.8620\n",
      "Epoch 11/15\n",
      "12s - loss: 2.2852 - acc: 0.8581\n",
      "Epoch 12/15\n",
      "11s - loss: 3.1312 - acc: 0.8056\n",
      "Epoch 13/15\n",
      "12s - loss: 3.0516 - acc: 0.8105\n",
      "Epoch 14/15\n",
      "11s - loss: 2.5876 - acc: 0.8394\n",
      "Epoch 15/15\n",
      "11s - loss: 2.7039 - acc: 0.8321\n",
      "Epoch 1/2\n",
      "13s - loss: 3.5864 - acc: 0.7594\n",
      "Epoch 2/2\n",
      "11s - loss: 4.1930 - acc: 0.7378\n",
      "Epoch 1/4\n",
      "12s - loss: 4.2437 - acc: 0.7356\n",
      "Epoch 2/4\n",
      "12s - loss: 4.3869 - acc: 0.7271\n",
      "Epoch 3/4\n",
      "11s - loss: 4.4958 - acc: 0.7204\n",
      "Epoch 4/4\n",
      "11s - loss: 3.8604 - acc: 0.7601\n",
      "Epoch 1/8\n",
      "11s - loss: 4.0500 - acc: 0.7483\n",
      "Epoch 2/8\n",
      "11s - loss: 3.7744 - acc: 0.7654\n",
      "Epoch 3/8\n",
      "11s - loss: 3.6552 - acc: 0.7728\n",
      "Epoch 4/8\n",
      "11s - loss: 3.5238 - acc: 0.7812\n",
      "Epoch 5/8\n",
      "11s - loss: 3.5373 - acc: 0.7802\n",
      "Epoch 6/8\n",
      "11s - loss: 3.9627 - acc: 0.7539\n",
      "Epoch 7/8\n",
      "11s - loss: 4.0363 - acc: 0.7493\n",
      "Epoch 8/8\n",
      "11s - loss: 3.2996 - acc: 0.7951\n",
      "Epoch 1/15\n",
      "11s - loss: 3.4535 - acc: 0.7855\n",
      "Epoch 2/15\n",
      "11s - loss: 3.2128 - acc: 0.8006\n",
      "Epoch 3/15\n",
      "11s - loss: 3.8646 - acc: 0.7600\n",
      "Epoch 4/15\n",
      "11s - loss: 4.3662 - acc: 0.7289\n",
      "Epoch 5/15\n",
      "11s - loss: 4.1644 - acc: 0.7414\n",
      "Epoch 6/15\n",
      "11s - loss: 4.2625 - acc: 0.7354\n",
      "Epoch 7/15\n",
      "12s - loss: 4.0654 - acc: 0.7475\n",
      "Epoch 8/15\n",
      "11s - loss: 3.6092 - acc: 0.7759\n",
      "Epoch 9/15\n",
      "11s - loss: 3.5713 - acc: 0.7783\n",
      "Epoch 10/15\n",
      "11s - loss: 3.9905 - acc: 0.7523\n",
      "Epoch 11/15\n",
      "11s - loss: 3.6639 - acc: 0.7726\n",
      "Epoch 12/15\n",
      "11s - loss: 3.4339 - acc: 0.7868\n",
      "Epoch 13/15\n",
      "11s - loss: 3.7092 - acc: 0.7698\n",
      "Epoch 14/15\n",
      "12s - loss: 3.1693 - acc: 0.8032\n",
      "Epoch 15/15\n",
      "12s - loss: 3.8553 - acc: 0.7607\n",
      "Epoch 1/2\n",
      "13s - loss: 4.3099 - acc: 0.7154\n",
      "Epoch 2/2\n",
      "11s - loss: 6.6526 - acc: 0.5860\n",
      "Epoch 1/4\n",
      "11s - loss: 6.4375 - acc: 0.6001\n",
      "Epoch 2/4\n",
      "11s - loss: 6.2457 - acc: 0.6119\n",
      "Epoch 3/4\n",
      "11s - loss: 6.8557 - acc: 0.5741\n",
      "Epoch 4/4\n",
      "11s - loss: 6.4686 - acc: 0.5983\n",
      "Epoch 1/8\n",
      "11s - loss: 7.2796 - acc: 0.5480\n",
      "Epoch 2/8\n",
      "11s - loss: 6.7127 - acc: 0.5833\n",
      "Epoch 3/8\n",
      "11s - loss: 6.9764 - acc: 0.5669\n",
      "Epoch 4/8\n",
      "11s - loss: 6.4591 - acc: 0.5990\n",
      "Epoch 5/8\n",
      "11s - loss: 6.3603 - acc: 0.6052\n",
      "Epoch 6/8\n",
      "11s - loss: 7.0587 - acc: 0.5619\n",
      "Epoch 7/8\n",
      "11s - loss: 6.6259 - acc: 0.5889\n",
      "Epoch 8/8\n",
      "11s - loss: 7.2007 - acc: 0.5532\n",
      "Epoch 1/15\n",
      "11s - loss: 6.5440 - acc: 0.5940\n",
      "Epoch 2/15\n",
      "11s - loss: 7.0471 - acc: 0.5627\n",
      "Epoch 3/15\n",
      "11s - loss: 6.0867 - acc: 0.6223\n",
      "Epoch 4/15\n",
      "11s - loss: 6.3752 - acc: 0.6044\n",
      "Epoch 5/15\n",
      "11s - loss: 6.1443 - acc: 0.6187\n",
      "Epoch 6/15\n",
      "11s - loss: 6.0950 - acc: 0.6218\n",
      "Epoch 7/15\n",
      "11s - loss: 6.3840 - acc: 0.6039\n",
      "Epoch 8/15\n",
      "11s - loss: 6.2775 - acc: 0.6104\n",
      "Epoch 9/15\n",
      "11s - loss: 6.2669 - acc: 0.6111\n",
      "Epoch 10/15\n",
      "11s - loss: 6.2266 - acc: 0.6137\n",
      "Epoch 11/15\n",
      "11s - loss: 6.0710 - acc: 0.6233\n",
      "Epoch 12/15\n",
      "11s - loss: 6.4708 - acc: 0.5985\n",
      "Epoch 13/15\n",
      "11s - loss: 6.7211 - acc: 0.5830\n",
      "Epoch 14/15\n",
      "11s - loss: 6.2781 - acc: 0.6105\n",
      "Epoch 15/15\n",
      "11s - loss: 6.1501 - acc: 0.6184\n",
      "Epoch 1/2\n",
      "13s - loss: 2.9203 - acc: 0.8011\n",
      "Epoch 2/2\n",
      "12s - loss: 4.4550 - acc: 0.7215\n",
      "Epoch 1/4\n",
      "12s - loss: 3.6338 - acc: 0.7734\n",
      "Epoch 2/4\n",
      "12s - loss: 3.5135 - acc: 0.7812\n",
      "Epoch 3/4\n",
      "12s - loss: 3.5432 - acc: 0.7797\n",
      "Epoch 4/4\n",
      "12s - loss: 3.4024 - acc: 0.7885\n",
      "Epoch 1/8\n",
      "11s - loss: 3.3663 - acc: 0.7909\n",
      "Epoch 2/8\n",
      "12s - loss: 3.5774 - acc: 0.7777\n",
      "Epoch 3/8\n",
      "12s - loss: 2.7547 - acc: 0.8288\n",
      "Epoch 4/8\n",
      "11s - loss: 2.3395 - acc: 0.8546\n",
      "Epoch 5/8\n",
      "11s - loss: 3.1188 - acc: 0.8063\n",
      "Epoch 6/8\n",
      "12s - loss: 3.7657 - acc: 0.7662\n",
      "Epoch 7/8\n",
      "12s - loss: 3.8277 - acc: 0.7624\n",
      "Epoch 8/8\n",
      "11s - loss: 3.9633 - acc: 0.7539\n",
      "Epoch 1/15\n",
      "12s - loss: 3.1195 - acc: 0.8063\n",
      "Epoch 2/15\n",
      "12s - loss: 3.2536 - acc: 0.7980\n",
      "Epoch 3/15\n",
      "12s - loss: 2.8769 - acc: 0.8214\n",
      "Epoch 4/15\n",
      "11s - loss: 3.2613 - acc: 0.7975\n",
      "Epoch 5/15\n",
      "12s - loss: 3.0197 - acc: 0.8126\n",
      "Epoch 6/15\n",
      "11s - loss: 3.1080 - acc: 0.8071\n",
      "Epoch 7/15\n",
      "12s - loss: 2.5444 - acc: 0.8420\n",
      "Epoch 8/15\n",
      "12s - loss: 2.4966 - acc: 0.8450\n",
      "Epoch 9/15\n",
      "11s - loss: 2.6137 - acc: 0.8378\n",
      "Epoch 10/15\n",
      "12s - loss: 3.0706 - acc: 0.8093\n",
      "Epoch 11/15\n",
      "12s - loss: 3.2488 - acc: 0.7983\n",
      "Epoch 12/15\n",
      "12s - loss: 3.0039 - acc: 0.8136\n",
      "Epoch 13/15\n",
      "12s - loss: 3.1022 - acc: 0.8074\n",
      "Epoch 14/15\n",
      "11s - loss: 2.7895 - acc: 0.8268\n",
      "Epoch 15/15\n",
      "11s - loss: 3.0417 - acc: 0.8112\n",
      "Epoch 1/2\n",
      "14s - loss: 2.9671 - acc: 0.7998\n",
      "Epoch 2/2\n",
      "12s - loss: 3.1764 - acc: 0.8012\n",
      "Epoch 1/4\n",
      "12s - loss: 4.5325 - acc: 0.7178\n",
      "Epoch 2/4\n",
      "11s - loss: 4.4104 - acc: 0.7255\n",
      "Epoch 3/4\n",
      "12s - loss: 3.8703 - acc: 0.7594\n",
      "Epoch 4/4\n",
      "12s - loss: 3.6114 - acc: 0.7757\n",
      "Epoch 1/8\n",
      "12s - loss: 4.6174 - acc: 0.7130\n",
      "Epoch 2/8\n",
      "12s - loss: 5.5701 - acc: 0.6541\n",
      "Epoch 3/8\n",
      "12s - loss: 6.3241 - acc: 0.6074\n",
      "Epoch 4/8\n",
      "12s - loss: 5.4234 - acc: 0.6633\n",
      "Epoch 5/8\n",
      "11s - loss: 4.8736 - acc: 0.6973\n",
      "Epoch 6/8\n",
      "12s - loss: 4.4218 - acc: 0.7256\n",
      "Epoch 7/8\n",
      "12s - loss: 5.2271 - acc: 0.6755\n",
      "Epoch 8/8\n",
      "11s - loss: 4.6050 - acc: 0.7141\n",
      "Epoch 1/15\n",
      "12s - loss: 4.7308 - acc: 0.7064\n",
      "Epoch 2/15\n",
      "12s - loss: 5.1222 - acc: 0.6820\n",
      "Epoch 3/15\n",
      "12s - loss: 4.4516 - acc: 0.7237\n",
      "Epoch 4/15\n",
      "12s - loss: 4.5076 - acc: 0.7201\n",
      "Epoch 5/15\n",
      "12s - loss: 4.4735 - acc: 0.7224\n",
      "Epoch 6/15\n",
      "12s - loss: 4.7260 - acc: 0.7067\n",
      "Epoch 7/15\n",
      "12s - loss: 4.7088 - acc: 0.7077\n",
      "Epoch 8/15\n",
      "12s - loss: 5.0583 - acc: 0.6860\n",
      "Epoch 9/15\n",
      "12s - loss: 3.8541 - acc: 0.7608\n",
      "Epoch 10/15\n",
      "12s - loss: 4.5709 - acc: 0.7163\n",
      "Epoch 11/15\n",
      "12s - loss: 4.5797 - acc: 0.7158\n",
      "Epoch 12/15\n",
      "12s - loss: 4.4302 - acc: 0.7251\n",
      "Epoch 13/15\n",
      "12s - loss: 4.1760 - acc: 0.7409\n",
      "Epoch 14/15\n",
      "12s - loss: 4.2978 - acc: 0.7332\n",
      "Epoch 15/15\n",
      "11s - loss: 4.1069 - acc: 0.7451\n"
     ]
    }
   ],
   "source": [
    "ensemble_model=[ensemble() for i in range(6)]"
   ]
  },
  {
   "cell_type": "code",
   "execution_count": 46,
   "metadata": {
    "collapsed": true
   },
   "outputs": [],
   "source": [
    "path = \"/home/vishnu/Documents/mnist\"\n",
    "model_path = path + 'models/'"
   ]
  },
  {
   "cell_type": "code",
   "execution_count": null,
   "metadata": {
    "collapsed": true
   },
   "outputs": [],
   "source": [
    "for i,m in enumerate(models):\n",
    "    m.save_weights(model_path+'cnn-mnist23-'+str(i)+'.pkl')\n"
   ]
  },
  {
   "cell_type": "code",
   "execution_count": null,
   "metadata": {
    "collapsed": true
   },
   "outputs": [],
   "source": [
    "#evals = np.array([m.evaluate(X_test, y_test, batch_size=256) for m in models])\n",
    "\n",
    "all_preds = np.stack([m.predict(X_test, batch_size=256) for m in models])\n",
    "all_preds.shape\n"
   ]
  }
 ],
 "metadata": {
  "kernelspec": {
   "display_name": "Python 3",
   "language": "python",
   "name": "python3"
  },
  "language_info": {
   "codemirror_mode": {
    "name": "ipython",
    "version": 3
   },
   "file_extension": ".py",
   "mimetype": "text/x-python",
   "name": "python",
   "nbconvert_exporter": "python",
   "pygments_lexer": "ipython3",
   "version": "3.6.0"
  }
 },
 "nbformat": 4,
 "nbformat_minor": 2
}
